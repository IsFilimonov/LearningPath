{
 "cells": [
  {
   "cell_type": "markdown",
   "id": "368716d8-7596-4597-81f3-461875596664",
   "metadata": {},
   "source": [
    "# 3. Практика и разбор задач из `LE02.ipynb`"
   ]
  },
  {
   "cell_type": "markdown",
   "id": "e44ab3ec-3f49-4308-b4de-8c10e4e96522",
   "metadata": {},
   "source": [
    "Будет полезно знать, что рекурсию можно визуализировать с помощью [rcviz](https://github.com/carlsborg/rcviz) или же [адаптация](https://github.com/superbobry/rcviz) от автора курса.\n",
    "\n",
    "Наглядный [разбор декораторов](https://habr.com/ru/post/141411/) на habr."
   ]
  },
  {
   "cell_type": "markdown",
   "id": "6edb8635-b62d-42b1-90c4-eb85cdea1285",
   "metadata": {},
   "source": [
    "## 3.5 Числа Фибонначи"
   ]
  },
  {
   "cell_type": "markdown",
   "id": "24712a0b-5ef6-4669-a8c8-98ba7aa5cddd",
   "metadata": {},
   "source": [
    "Выполнение через рекурсию `fib1(n)` очень медленное за счет того, что в разных ветках повторно вызываются рассчеты одного и того же значения."
   ]
  },
  {
   "cell_type": "code",
   "execution_count": 1,
   "id": "0950da55-3c5e-4bfc-8376-b9b4cb138309",
   "metadata": {},
   "outputs": [],
   "source": [
    "def fib1(n):\n",
    "    assert n >= 0\n",
    "    return n if n <= 1 else fib1(n-1) + fib1(n-2)"
   ]
  },
  {
   "cell_type": "code",
   "execution_count": 2,
   "id": "9d10b136-9a8e-4e51-8998-f337df9a8ecc",
   "metadata": {},
   "outputs": [
    {
     "data": {
      "text/plain": [
       "21"
      ]
     },
     "execution_count": 2,
     "metadata": {},
     "output_type": "execute_result"
    }
   ],
   "source": [
    "fib1(8)  # вычисляется быстро\n",
    "#fib1(80)  вычисляется уже долго"
   ]
  },
  {
   "cell_type": "markdown",
   "id": "91eb0092-b7df-43b2-a6e7-dbfacd5ca0b4",
   "metadata": {},
   "source": [
    "Через глобальную переменную кэша."
   ]
  },
  {
   "cell_type": "code",
   "execution_count": 3,
   "id": "5917d4f6-ef93-4df4-9499-622ba6827a81",
   "metadata": {},
   "outputs": [],
   "source": [
    "cache = {}  # иметь глобальную переменную не самый лучший вариант\n",
    "def fib2(n):\n",
    "    assert n >= 0\n",
    "    if n not in cache:\n",
    "        cache[n] = n if n <= 1 else fib2(n-1) + fib2(n-2)\n",
    "    return cache[n]"
   ]
  },
  {
   "cell_type": "code",
   "execution_count": 4,
   "id": "82b24d64-f717-4a87-ad32-39d235dc15a6",
   "metadata": {},
   "outputs": [
    {
     "data": {
      "text/plain": [
       "(21,\n",
       " 23416728348467685,\n",
       " 69283081864224717136290077681328518273399124385204820718966040597691435587278383112277161967532530675374170857404743017623467220361778016172106855838975759985190398725)"
      ]
     },
     "execution_count": 4,
     "metadata": {},
     "output_type": "execute_result"
    }
   ],
   "source": [
    "fib2(8), fib2(80), fib2(800)  # всё довольно быстро"
   ]
  },
  {
   "cell_type": "markdown",
   "id": "a7f5d08e-7e58-4192-a38d-a30e5cfbcad1",
   "metadata": {},
   "source": [
    "Иметь глобальную переменную не лучший выбор, так как любой имеет к ней доступ на изменение. Спрячем кэш в процесс выполнения функции Фибонначи."
   ]
  },
  {
   "cell_type": "code",
   "execution_count": 5,
   "id": "5c346d43-8934-42d4-a6ba-186780f01751",
   "metadata": {},
   "outputs": [],
   "source": [
    "from functools import lru_cache\n",
    "\n",
    "def memo(func):\n",
    "    cache = {}\n",
    "    def inner(n):\n",
    "        if n not in cache:\n",
    "            cache[n] = func(n)\n",
    "        return cache[n]\n",
    "    return inner\n",
    "\n",
    "@memo # ИЛИ также можно заменить эту строчку на @lru_cache(maxsize=None) \n",
    "def fib1(n):\n",
    "    assert n >= 0\n",
    "    return n if n <= 1 else fib1(n - 1) + fib1(n - 2)"
   ]
  },
  {
   "cell_type": "code",
   "execution_count": 6,
   "id": "1e4d6f5e-7d3d-46df-b166-13662f58df1d",
   "metadata": {},
   "outputs": [
    {
     "data": {
      "text/plain": [
       "23416728348467685"
      ]
     },
     "execution_count": 6,
     "metadata": {},
     "output_type": "execute_result"
    }
   ],
   "source": [
    "fib1(80)"
   ]
  },
  {
   "cell_type": "markdown",
   "id": "b0d3f33b-4b6d-412c-9d66-d3fe393c348a",
   "metadata": {},
   "source": [
    "В Python нельзя вызывать рекурсию до бесконечности."
   ]
  },
  {
   "cell_type": "code",
   "execution_count": 7,
   "id": "0cee6e67-6cdc-431d-92ea-4658c2fc5c9e",
   "metadata": {},
   "outputs": [
    {
     "name": "stdout",
     "output_type": "stream",
     "text": [
      "Рекурсия ограничена\n"
     ]
    }
   ],
   "source": [
    "try:\n",
    "    fib1(8000)\n",
    "except RecursionError:\n",
    "    print(\"Рекурсия ограничена\")"
   ]
  },
  {
   "cell_type": "markdown",
   "id": "8a8ef675-6f75-4d9d-9efd-a577c8799944",
   "metadata": {},
   "source": [
    "Решение через итерации, а не через рекурсию."
   ]
  },
  {
   "cell_type": "code",
   "execution_count": 8,
   "id": "a99b9572-696d-4080-b82a-b4cc57334c20",
   "metadata": {},
   "outputs": [
    {
     "name": "stdout",
     "output_type": "stream",
     "text": [
      "3561533204460626739768914905427460387141369539110154082973500638991885819498711815304829246223963373749873423083216889782034228521693267175594214186111978816819236959743284321273097535654614718808050244321699002512466203835566030351092652496815708455980825654877181538741827129421689128991879649533246136168998590044965735035810856774605383628378979290580539135791985063484992877932473487054068899476937399295193905527420792975902913836012199062687063537510151753758100626402591751183925883151617648375005313453493271681248233059858496951790113255897429539560654496639601132039360167542277472498901884679404509894269174519328918160745655327632006736189766801968534195725815421784083495026969542066047758885029695257263330719223956309043195653930347983496830801755572982419821881275569179922973415736010289561700699477021488635509784509168019589640190234350021673802856836365767446249424907273016689053388000785637444921523414602360860001530139933615215383220927084750528293779491002813557093860863839463287251443115581618266959802005566973874793475256663122039030056061200186123236430592279484254766158650545069933528061680141046574115103014532101595841822474764213889385114174543352137856680694687244097968099924183815689652779302937329729253678579649215884078334428338037327451220722810587680172255878795449524781554973097109174140632623167659027450550461045055883872225659796812847075286475208205923875668405160707778568995306926178023176315799965539425437791083258303238592641010878264249883586034912756021070468742995902773902487497010335873840408520900059054071283266816325489230566003110549946685475230821114509971542662742044237174282248020953398789607528748909125\n"
     ]
    }
   ],
   "source": [
    "def fib3(n):\n",
    "    assert n >= 0\n",
    "    f0, f1 = 0, 1\n",
    "    for i in range(n-1):\n",
    "        f0, f1 = f1, f0+f1\n",
    "    return f1\n",
    "\n",
    "        \n",
    "print(fib3(8000))"
   ]
  },
  {
   "cell_type": "markdown",
   "id": "38b76151-ecf5-4b93-a731-70fe60d2ac6a",
   "metadata": {},
   "source": [
    "Можно проверить быстродействие выполнения расчета различных вариантов."
   ]
  },
  {
   "cell_type": "code",
   "execution_count": 9,
   "id": "9b4170da-c70b-4c0a-80c4-4887f37b918a",
   "metadata": {
    "tags": []
   },
   "outputs": [
    {
     "name": "stdout",
     "output_type": "stream",
     "text": [
      "5.5583000000081206e-05\n"
     ]
    }
   ],
   "source": [
    "import time\n",
    "\n",
    "\n",
    "def timed(f, *args, n_iter=100):\n",
    "    acc = float(\"inf\")  # +бесконечность, аналог верхней границы для поиска наименьшего\n",
    "    for _ in range(n_iter):\n",
    "        t0 = time.perf_counter()\n",
    "        f(*args)\n",
    "        t1 = time.perf_counter()\n",
    "        acc = min(acc, t1-t0)\n",
    "    return acc\n",
    "    \n",
    "\n",
    "print(timed(fib3, 800))  #±52 микросекунд"
   ]
  },
  {
   "cell_type": "markdown",
   "id": "9f844f1a-9b5d-419b-91e3-2fd5761877f3",
   "metadata": {},
   "source": [
    "Построим график зависимостей."
   ]
  },
  {
   "cell_type": "code",
   "execution_count": 10,
   "id": "2b62e76e-0e5c-4610-90bf-e132ad7302a6",
   "metadata": {},
   "outputs": [
    {
     "data": {
      "image/png": "[encoded data removed]",
      "text/plain": [
       "<Figure size 432x288 with 1 Axes>"
      ]
     },
     "metadata": {
      "needs_background": "light"
     },
     "output_type": "display_data"
    }
   ],
   "source": [
    "from matplotlib import pyplot as plt\n",
    "\n",
    "def compare(fs, args):\n",
    "    for f in fs:\n",
    "        plt.plot(args, [timed(f, arg) for arg in args], label=f.__name__)\n",
    "        plt.legend()\n",
    "        plt.grid(True)\n",
    "        \n",
    "compare([fib1, fib3], list(range(100)))"
   ]
  },
  {
   "cell_type": "markdown",
   "id": "587f4dbb-6bb0-4a4c-833a-e6f9d6aeefca",
   "metadata": {},
   "source": [
    "Линейный рост fib3 для нас очевиден."
   ]
  },
  {
   "cell_type": "markdown",
   "id": "e80059d3-54a2-420f-9f51-6c26420f3bed",
   "metadata": {},
   "source": [
    "## 3.6 Наибольший Общий Делитель"
   ]
  },
  {
   "cell_type": "markdown",
   "id": "ce96b3dd-d10e-4412-80c9-2db35332e953",
   "metadata": {},
   "source": [
    "Подготовка тестов для функций НОД."
   ]
  },
  {
   "cell_type": "code",
   "execution_count": 11,
   "id": "8ba02c77-75e7-4e43-94a7-de256c8a03bc",
   "metadata": {},
   "outputs": [],
   "source": [
    "import random\n",
    "\n",
    "def test_gcd(gcd, n_iter=100):\n",
    "    for i in range(n_iter):\n",
    "        c = random.randint(0, 1024)\n",
    "        a = c * random.randint(0, 128)\n",
    "        b = c * random.randint(0, 128)\n",
    "        assert gcd(a, a) == gcd(a, 0) == a\n",
    "        assert gcd(b, b) == gcd(b, 0) == b\n",
    "        assert gcd(a, 1) == gcd(b, 1) == 1\n",
    "        d = gcd(a, b)\n",
    "        assert a % d == b % d == 0        "
   ]
  },
  {
   "cell_type": "markdown",
   "id": "8141e499-39de-4638-9a51-e51eb7af5cfa",
   "metadata": {},
   "source": [
    "2 итеративные версии алгоритма."
   ]
  },
  {
   "cell_type": "code",
   "execution_count": 12,
   "id": "d0e73499-1305-40dc-abea-bb68e279ae2c",
   "metadata": {},
   "outputs": [],
   "source": [
    "def gcd1(a, b):\n",
    "    assert a >= 0 and b >= 0\n",
    "    for d in reversed(range(max(a, b) + 1)):\n",
    "        if d == 0 or a % d == b % d == 0:\n",
    "            return d"
   ]
  },
  {
   "cell_type": "code",
   "execution_count": 13,
   "id": "526050a6-837e-4d34-b929-b00bb95900a8",
   "metadata": {},
   "outputs": [
    {
     "data": {
      "text/plain": [
       "0"
      ]
     },
     "execution_count": 13,
     "metadata": {},
     "output_type": "execute_result"
    }
   ],
   "source": [
    "gcd1(0, 0)"
   ]
  },
  {
   "cell_type": "code",
   "execution_count": 14,
   "id": "443bd263-6c69-42ce-8b82-ba2653be6396",
   "metadata": {},
   "outputs": [],
   "source": [
    "assert test_gcd(gcd1) == None  # всё ок"
   ]
  },
  {
   "cell_type": "code",
   "execution_count": 15,
   "id": "6c0540e7-ea0c-42a5-b887-627a14c1f710",
   "metadata": {},
   "outputs": [],
   "source": [
    "def gcd2(a, b):\n",
    "    while a and b:\n",
    "        if a >= b:\n",
    "            a %= b\n",
    "        else:\n",
    "            b %= a\n",
    "    return max(a, b)"
   ]
  },
  {
   "cell_type": "code",
   "execution_count": 16,
   "id": "1cb6029b-df7b-411b-be5d-a0c46bc9166d",
   "metadata": {},
   "outputs": [],
   "source": [
    "assert test_gcd(gcd2) == None  # всё ок"
   ]
  },
  {
   "cell_type": "markdown",
   "id": "d59b6bf7-4b93-43ad-82b1-caf169fda561",
   "metadata": {},
   "source": [
    "2 рекурсивных версии."
   ]
  },
  {
   "cell_type": "code",
   "execution_count": 17,
   "id": "80060ce0-ab24-4245-8abf-f14f41a82681",
   "metadata": {},
   "outputs": [],
   "source": [
    "def gcd3(a, b):\n",
    "    assert a >= 0 and b >= 0\n",
    "    if a == 0 or b == 0:\n",
    "        return max(a, b)\n",
    "    elif a >= b:\n",
    "        return gcd3(a % b, b)\n",
    "    else:\n",
    "        return gcd3(a, b % a)"
   ]
  },
  {
   "cell_type": "code",
   "execution_count": 18,
   "id": "de3d57d6-17cd-4598-8335-ab3fc52986bb",
   "metadata": {},
   "outputs": [],
   "source": [
    "assert test_gcd(gcd3) == None  # всё ок"
   ]
  },
  {
   "cell_type": "markdown",
   "id": "f541ec75-fd96-434f-af4e-17c5d251956d",
   "metadata": {},
   "source": [
    "Одна из них называется алгоритмом Евклида."
   ]
  },
  {
   "cell_type": "code",
   "execution_count": 19,
   "id": "2090ac59-5328-4b3b-a05a-b521200dc56a",
   "metadata": {},
   "outputs": [],
   "source": [
    "def gcd4(a, b):\n",
    "    assert a >= 0 and b >= 0\n",
    "    if a == 0 or b == 0:\n",
    "        return max(a, b)\n",
    "    return gcd4(b % a, a)"
   ]
  },
  {
   "cell_type": "code",
   "execution_count": 20,
   "id": "741a6d2e-e7fd-4e82-b037-69c2be77a16f",
   "metadata": {},
   "outputs": [],
   "source": [
    "assert test_gcd(gcd4) == None  # всё ок"
   ]
  }
 ],
 "metadata": {
  "kernelspec": {
   "display_name": "Python 3",
   "language": "python",
   "name": "python3"
  },
  "language_info": {
   "codemirror_mode": {
    "name": "ipython",
    "version": 3
   },
   "file_extension": ".py",
   "mimetype": "text/x-python",
   "name": "python",
   "nbconvert_exporter": "python",
   "pygments_lexer": "ipython3",
   "version": "3.8.5"
  }
 },
 "nbformat": 4,
 "nbformat_minor": 5
}
