{
 "cells": [
  {
   "cell_type": "markdown",
   "id": "384ccd14-2378-4d5c-95d4-43598a54be6c",
   "metadata": {},
   "source": [
    "# 4. Жадные алгоритмы: теория и задачи"
   ]
  },
  {
   "cell_type": "markdown",
   "id": "2f9a49a9-b22a-44c4-b8bb-fa0169c2e114",
   "metadata": {},
   "source": [
    "## ToC\n",
    "\n",
    "- 4.1 Введение"
   ]
  },
  {
   "cell_type": "markdown",
   "id": "bba70035-3721-4bbb-9eb5-6d918ee25e8b",
   "metadata": {},
   "source": [
    "## Notes"
   ]
  },
  {
   "cell_type": "markdown",
   "id": "de80fff7-eba5-48d2-929a-ff4f40347549",
   "metadata": {},
   "source": [
    "Запуск тестовых примеров с помощью Jupyter адаптации pyTest. Все детали [тут](https://github.com/chmp/ipytest/blob/main/Example.ipynb)."
   ]
  },
  {
   "cell_type": "code",
   "execution_count": 1,
   "id": "006519df-abd4-4a0b-abaf-373ea869618a",
   "metadata": {},
   "outputs": [],
   "source": [
    "import ipytest\n",
    "ipytest.autoconfig()"
   ]
  },
  {
   "cell_type": "markdown",
   "id": "28a49b0a-2487-441c-b903-84534c27e677",
   "metadata": {},
   "source": [
    "## 4.1 Введение"
   ]
  },
  {
   "cell_type": "markdown",
   "id": "c65149db-b617-44e0-84d0-38dcdfb488d9",
   "metadata": {},
   "source": [
    "**Жадные алгоритмы** –– это такие алгоритмы, которые стремятся сделать оптимальный выбор в каждый момент времени.\n",
    "\n",
    "Они не смотрят в будущее, чтобы выбрать глобальное оптимальное решение. Их интересует только лучшее решение в данный момент(на данном шаге). Они никогда не оглядываются назад на то, что сделали, чтобы понять, нужна ли глобальная оптимизация.\n",
    "\n",
    "Жадные алгоритмы намного быстрее и, как правило, легче кодируются, чем две другие альтернативы (**Разделяй и властвуй** — Divide & Conquer, и **Динамическое программирование** Dynamic Programming)."
   ]
  },
  {
   "cell_type": "markdown",
   "id": "e8f5b9f4-8ad4-4705-8ff2-3e047deb7140",
   "metadata": {},
   "source": [
    "### Основные идеи"
   ]
  },
  {
   "cell_type": "markdown",
   "id": "823e099c-7beb-4bb0-bfdd-f41c02ce47b6",
   "metadata": {
    "tags": []
   },
   "source": [
    "**Надежынй шаг** –– оптимальное решение, согласованное с локальным жадным шагом.  \n",
    "**Оптимальность подзадач** –– задача, остающаяся после жадного шага, имеет тот же тип."
   ]
  },
  {
   "cell_type": "markdown",
   "id": "c8bb4129-892c-428a-9588-97e7d79959cd",
   "metadata": {},
   "source": [
    "### Виды"
   ]
  },
  {
   "cell_type": "markdown",
   "id": "51f04936-89fc-4223-af5a-26485fb32bb2",
   "metadata": {},
   "source": [
    "Задача о выборе заявок."
   ]
  },
  {
   "cell_type": "markdown",
   "id": "cc9d1da4-7bfd-4957-9cd4-2150092fa648",
   "metadata": {},
   "source": [
    "Задача планирования вечеринки в компании. Работа с деревом.  \n",
    "Надежный шаг: взять все узлы, у которых нет подчиненных."
   ]
  },
  {
   "cell_type": "markdown",
   "id": "c40f1b8f-a775-4b47-a38d-5a4de777bf1c",
   "metadata": {},
   "source": [
    "Задача о непрерывном рюкзаке."
   ]
  },
  {
   "cell_type": "markdown",
   "id": "c3c04573-c36f-4d59-ba41-81e73de6832a",
   "metadata": {},
   "source": [
    "### Задача 4.1.1\n",
    "\n",
    "**Задание**:  \n",
    "Даны отрезки на прямой. Найти такие точки, которые лежат на всех заданных отрезках. Найденное множество должно быть минимальным по размеру.\n",
    "\n",
    "**Формат входных данных**:  \n",
    "Первая строка - количество отрезков  $1 <= n <= 100$.  \n",
    "Последующие n строк - координаты начала и конца отрезка $0 <= r <= 10^9$, разделенные пробелом.\n",
    "\n",
    "**Формат выходных данных**:  \n",
    "Первая строка - количество найденных точек.  \n",
    "Вторая строка - найденные точки, разделенные пробелом.  "
   ]
  },
  {
   "cell_type": "markdown",
   "id": "6d8f3905-f83d-4bd1-95bc-9131464d612c",
   "metadata": {},
   "source": [
    "**Решение**:\n",
    "\n",
    "---"
   ]
  },
  {
   "cell_type": "code",
   "execution_count": 4,
   "id": "7a295ecc-aead-46b0-8af3-4c95e6b21dd1",
   "metadata": {},
   "outputs": [],
   "source": [
    "def task_1():\n",
    "    ..."
   ]
  },
  {
   "cell_type": "code",
   "execution_count": 6,
   "id": "2b220ab9-6ffa-44aa-94f3-4b80f1116fed",
   "metadata": {},
   "outputs": [
    {
     "name": "stdout",
     "output_type": "stream",
     "text": [
      "\u001b[32m.\u001b[0m\u001b[32m                                                                                            [100%]\u001b[0m\n",
      "\u001b[32m\u001b[32m\u001b[1m1 passed\u001b[0m\u001b[32m in 0.01s\u001b[0m\u001b[0m\n"
     ]
    }
   ],
   "source": [
    "%%ipytest\n",
    "\n",
    "def test_task_1():\n",
    "    assert task_1() == None"
   ]
  },
  {
   "cell_type": "code",
   "execution_count": null,
   "id": "7b769fb5-d00c-422d-9996-dbc97284f265",
   "metadata": {},
   "outputs": [],
   "source": []
  }
 ],
 "metadata": {
  "kernelspec": {
   "display_name": "Python 3",
   "language": "python",
   "name": "python3"
  },
  "language_info": {
   "codemirror_mode": {
    "name": "ipython",
    "version": 3
   },
   "file_extension": ".py",
   "mimetype": "text/x-python",
   "name": "python",
   "nbconvert_exporter": "python",
   "pygments_lexer": "ipython3",
   "version": "3.8.5"
  }
 },
 "nbformat": 4,
 "nbformat_minor": 5
}
