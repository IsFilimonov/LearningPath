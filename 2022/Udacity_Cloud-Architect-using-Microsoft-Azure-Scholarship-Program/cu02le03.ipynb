{
 "cells": [
  {
   "cell_type": "markdown",
   "id": "d5bcacfa-be46-41bf-a6df-bb4d0717d9d5",
   "metadata": {},
   "source": [
    "# Curriculum 2: Designing Infrastructure and Managing Migration"
   ]
  },
  {
   "cell_type": "markdown",
   "id": "ddb2df2c-c1e3-4af5-8eb2-8495a4d9bf6c",
   "metadata": {},
   "source": [
    "## Lesson 3: Designing for Backup and Recovery"
   ]
  },
  {
   "cell_type": "markdown",
   "id": "ea5cf1dc-30fa-4d46-a931-ca491ef3fd03",
   "metadata": {},
   "source": [
    "### Concept 1: Intro"
   ]
  },
  {
   "cell_type": "markdown",
   "id": "089d3a11-8ffa-456b-a91d-be4972ee9fd5",
   "metadata": {},
   "source": [
    "Создание ресурсов Azure лишь часть задач Cloud Architect. Важно обеспечить плавное восстановление и бесперебойность, минимизацию простоя и потерю данных.\n",
    "\n",
    "- Recovery Point Objective (RPO)\n",
    "- Recovery Time Objective (RTO)\n",
    "- Recovery Plan Objective (RPO)\n",
    "\n"
   ]
  },
  {
   "cell_type": "markdown",
   "id": "a504239f-7b32-4e8a-914f-67330bf698a4",
   "metadata": {},
   "source": [
    "### Concept 4: On-premise Environment Protection Plan"
   ]
  },
  {
   "cell_type": "markdown",
   "id": "6046bcf5-1b77-4972-9d6c-b579981d9577",
   "metadata": {},
   "source": [
    "<img src=\"imgs/cu02le03co04.png\" title=\"Define requirements\" width=\"400\" height=\"400\" />\n",
    "\n",
    "<img src=\"imgs/cu02le03co04-1.png\" title=\"Best Practices\" width=\"400\" height=\"400\" />"
   ]
  },
  {
   "cell_type": "markdown",
   "id": "7a3d11d6-2494-439b-a26f-84a05518d2ba",
   "metadata": {},
   "source": [
    "### Concept 6: Exercise, Create backup for your Virtual Machines"
   ]
  },
  {
   "cell_type": "markdown",
   "id": "43e67a16-91e1-4c28-a050-1fe5f40825b5",
   "metadata": {},
   "source": [
    "\n",
    "Create backup for your virtual Machines (стандартные бекапы для VM):\n",
    "1. Azure Portal: https://portal.azure.com/\n",
    "2. VMs -> select `web01` -> Operations -> Backup -> create new Recovery Services Vault:\n",
    "    - Backup vault: `web01vault`\n",
    "    - Политику резервного копирования (частота, день, время) можно настраивать\n",
    "    - Enable backup\n",
    "3. VMs -> select `web01` -> Operations -> Backup-> BackUp now: После создания планового бэкапа, задание запланировано, но можно запустить вручную.\n",
    "4. Можно проверить статус в том же разделе Backup в пункте View All jobs. Бэкап займет некоторое время.\n",
    "\n",
    "Create a new Recovery Services Vault for a Load Balanced Web Server (отдельное хранилище (vault) для бекапов LB):\n",
    "1. Azure Portal: https://portal.azure.com/\n",
    "2. Recovery Services vaults -> create new:\n",
    "    - Resource group: `WebLoadBalancer`\n",
    "    - Name: `lbvault`\n",
    "3. Recovery Services vaults -> `lbvault` -> Backup:\n",
    "    - Where: `Azure`\n",
    "    - Backup: `VM`\n",
    "    - click Backup\n",
    "    - `Add` to select VMs: select `web01lb`, `web02lb`\n",
    "    \n",
    "Managing Backup Policy (для `web01` мы вручную запускали бекапы, но для LB мы настроим политику):\n",
    "1. Azure Portal: https://portal.azure.com/\n",
    "2. Recovery Services vaults -> `lbvault` -> Manage -> Backup policies -> check `Default policy`\n",
    "3. Прибавим к времени запуска 30 минут и запланируем.\n",
    "4. Из-за того, что время ограничено существованием VM, можно запустить вручную: `lbvault` -> Protected items -> Backup items -> `Azure virtual machine` -> `...` -> Backup now\n",
    "5. Проверяем в VMs -> `web01lb` -> Operations -> Backup -> View all jobs"
   ]
  },
  {
   "cell_type": "markdown",
   "id": "2dea5c08-4af8-4e5c-8823-5d1903a249ff",
   "metadata": {},
   "source": [
    "### Concept 10: Quiz, Azure Site Recovery"
   ]
  },
  {
   "cell_type": "markdown",
   "id": "0f86b7a1-3055-4370-81c5-ab3c54019dc2",
   "metadata": {},
   "source": [
    "Azure Site Recovery поддерживает:\n",
    "- Репликация физ машины из on-promise в облако\n",
    "- Репликация вирт машины из on-promise в облако\n",
    "- Репликация Azure VM из одного региона в другой\n",
    "\n",
    "Azure Site Recovery позволяет установить порядок восстановления VM c помощью Customizable recovery plan. Важно, когда есть зависимости отдних VM от других.\n",
    "\n",
    "Включение согласованности с несколькими VM может потребовать доп нагрузки на ЦП.\n",
    "\n",
    "\n",
    "\n"
   ]
  },
  {
   "cell_type": "markdown",
   "id": "da74fe8c-ab70-4aeb-81e1-5b817ec1b904",
   "metadata": {},
   "source": [
    "### Concept 11: Exercise, Restore a VM from a Backup"
   ]
  },
  {
   "cell_type": "markdown",
   "id": "77acb35c-92c3-4078-abe1-9445dbc1bd1b",
   "metadata": {},
   "source": [
    "Create a Storage Account:\n",
    "1. Azure Portal: https://portal.azure.com/\n",
    "2. Storage account -> create:\n",
    "    - Resource group: `webservers`\n",
    "    - Storage account name: `storageweb01`\n",
    "    - Redundancy: `LRS`\n",
    "    - create\n",
    "    \n",
    "Shutting down VM to be restored:\n",
    "1. Azure Portal: https://portal.azure.com/\n",
    "2. VM -> `web01` -> stop\n",
    "\n",
    "Restore the VM:\n",
    "1. Azure Portal: https://portal.azure.com/\n",
    "2. VM -> `web01` -> Backup -> Restore VM\n",
    "3. Короче, по какой-то причине в jobs мой бекап был удален (для LB тоже), но шаги простые: выбираем какой бекап и восстанавливаемся заменой существующей."
   ]
  },
  {
   "cell_type": "markdown",
   "id": "e6d13242-cb7c-4aa7-badd-985c1d6c44d9",
   "metadata": {},
   "source": [
    "### Concept 15: Exercice, Restore File(s) from Backup"
   ]
  },
  {
   "cell_type": "markdown",
   "id": "29ef1a35-5593-4787-8fa3-6f96171ee5c8",
   "metadata": {},
   "source": [
    "Принцип не сложный. Из-за ограничений не стал расписывать.\n",
    "\n",
    "Мб будут ссылки работать: [YouTube](https://youtu.be/atrPT1DUdoE)"
   ]
  },
  {
   "cell_type": "markdown",
   "id": "0f3fba7e-4dee-46cb-8b71-71b2efbbc565",
   "metadata": {},
   "source": []
  }
 ],
 "metadata": {
  "kernelspec": {
   "display_name": "Python 3 (ipykernel)",
   "language": "python",
   "name": "python3"
  },
  "language_info": {
   "codemirror_mode": {
    "name": "ipython",
    "version": 3
   },
   "file_extension": ".py",
   "mimetype": "text/x-python",
   "name": "python",
   "nbconvert_exporter": "python",
   "pygments_lexer": "ipython3",
   "version": "3.8.12"
  }
 },
 "nbformat": 4,
 "nbformat_minor": 5
}
