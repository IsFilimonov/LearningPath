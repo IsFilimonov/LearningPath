{
 "cells": [
  {
   "cell_type": "markdown",
   "id": "6f7eb2f5-9f9c-4cf9-8ed6-7792966f6a68",
   "metadata": {},
   "source": [
    "# Curriculum 2: Designing Infrastructure and Managing Migration"
   ]
  },
  {
   "cell_type": "markdown",
   "id": "78cd21f2-07e9-4acf-8afe-f6b3557c930d",
   "metadata": {},
   "source": [
    "## Lesson 1: Introduction to Designing Infrastructure and Managing Migration"
   ]
  },
  {
   "cell_type": "markdown",
   "id": "eb4d02e4-e69f-408d-a46a-f160d08f56ef",
   "metadata": {},
   "source": [
    "### Concept 7: Business Stakeholders"
   ]
  },
  {
   "cell_type": "markdown",
   "id": "498a6d6c-d023-4d37-aed9-45ef73dd2e1c",
   "metadata": {},
   "source": [
    "CLO (Chief Legal Officer) –– директор по юридическим вопросам. Должен быть вовлечен в процесс определения политик внедрения Azure Politics/Blueprint.\n",
    "CFO (Chief Finance Officer) –– директор по финансам. Должен быть обеспокоин стоимостью и затратами.\n",
    "\n",
    "<img src=\"imgs/cu02le01co07.png\" title=\"Стейкхолдеры\" width=\"400\" height=\"400\" />"
   ]
  },
  {
   "cell_type": "markdown",
   "id": "67f6acc7-07a4-4e99-aae4-bbf541708a0d",
   "metadata": {},
   "source": [
    "### Concept 13: Tools and Environments"
   ]
  },
  {
   "cell_type": "markdown",
   "id": "8c6e78dd-54e1-4d32-8e69-a83fcd547497",
   "metadata": {},
   "source": [
    "<img src=\"imgs/cu02le01co13.png\" title=\"Инструменты и среда\" width=\"400\" height=\"400\" />\n",
    "\n",
    "Конкретные ресурсы:\n",
    "- Azure Migrate\n",
    "- Azure AD\n",
    "- Azure Backup\n",
    "- Azure Virtual Machine\n",
    "- Virtual Network Gateway\n",
    "- Virtual network\n",
    "- local network gateway\n",
    "- Azure PowerShell\n",
    "- Azure CLI\n",
    "- App Service\n",
    "- DSC\n",
    "- Azure SQL Database\n",
    "- Azure SQL Managed instance\n",
    "- Azure Blueprint/Azure Policy\n",
    "- RBAC\n",
    "- Kubernetes\n",
    "- Azure Container Instance"
   ]
  },
  {
   "cell_type": "markdown",
   "id": "782d4c64-8411-4319-aaef-e32953f0d26a",
   "metadata": {},
   "source": []
  }
 ],
 "metadata": {
  "kernelspec": {
   "display_name": "Python 3 (ipykernel)",
   "language": "python",
   "name": "python3"
  },
  "language_info": {
   "codemirror_mode": {
    "name": "ipython",
    "version": 3
   },
   "file_extension": ".py",
   "mimetype": "text/x-python",
   "name": "python",
   "nbconvert_exporter": "python",
   "pygments_lexer": "ipython3",
   "version": "3.8.12"
  }
 },
 "nbformat": 4,
 "nbformat_minor": 5
}
