{
 "cells": [
  {
   "cell_type": "markdown",
   "id": "59eeace1-13a0-42cb-bedf-099df28526b0",
   "metadata": {},
   "source": [
    "# Curriculum 2: Designing Infrastructure and Managing Migration"
   ]
  },
  {
   "cell_type": "markdown",
   "id": "cac33e81-acac-4d6d-9daa-b98820b744c4",
   "metadata": {},
   "source": [
    "## Lesson 5: Automation"
   ]
  },
  {
   "cell_type": "markdown",
   "id": "248ac289-bf69-4912-bc4f-223ce3acbbbf",
   "metadata": {},
   "source": [
    "### Concept 1: Intro\n",
    "- ARM template deployment\n",
    "- ARM template modification\n",
    "- Desired state configuration\n",
    "- Azure polices"
   ]
  },
  {
   "cell_type": "markdown",
   "id": "474f73a6-4a2c-47a5-8972-ddfe8ce67e22",
   "metadata": {},
   "source": [
    "### Concept 3: Deploy using ARM Template"
   ]
  },
  {
   "cell_type": "markdown",
   "id": "230405a7-2cff-4a49-bff8-320fcadb394a",
   "metadata": {},
   "source": [
    "Azure portal (deploy a cutom template) -> JSON template -> deploy -> VM !\n",
    "\n",
    "`Parameters.json` -> `Template.json` -> Azure VM:\n",
    "- schema\n",
    "- contentVersion\n",
    "- Parameters\n",
    "- Variables\n",
    "- Functions\n",
    "- Resources\n",
    "- outputs"
   ]
  },
  {
   "cell_type": "markdown",
   "id": "18585f9c-1a59-4b82-b1da-bdddecb5e1cd",
   "metadata": {},
   "source": [
    "### Concept 5: Exercise, Deploy a Storage Account using an ARM Template"
   ]
  },
  {
   "cell_type": "markdown",
   "id": "6a1e9ef5-4ada-49ba-92b1-b3570c48b7d6",
   "metadata": {},
   "source": [
    "Создаем ARM шаблон:\n",
    "- Azure portal -> Storage accounts -> create:\n",
    "    - Resource group\n",
    "    - Storage account name: `storagefullmoon1`\n",
    "    - Redundancy: GRS\n",
    "    - Review + create -> download a template for automation -> download\n",
    "- Unzip `template.zip` -> `parameters.json` -> `storageAccountName` to `null`:\n",
    "```json\n",
    "    \"storageAccountName\": {\n",
    "        \"value\": null\n",
    "    },\n",
    "```\n",
    "\n",
    "Деплой ARM шаблон:\n",
    "- Azure portal -> Deploy a custom template -> Build your own template in editor -> Load file `template.json` -> save\n",
    "- Edit parameters -> Load file `parameters.json` -> Заполняются все поля кроме Resource group и Storage Account Name (который null)\n",
    "    - Resource group\n",
    "    - Storage Account name: `storagefullmoon2`\n",
    "- Go to resources и проверяем, что Storage account создался норм"
   ]
  },
  {
   "cell_type": "markdown",
   "id": "967e41e2-eed5-488b-9acf-23f8e99f9a07",
   "metadata": {},
   "source": [
    "### Concept 11: Exercise, Use Desired State Configuration to keep our Web Servers configured properly"
   ]
  },
  {
   "cell_type": "markdown",
   "id": "5dd5c0e2-e460-474e-b45a-d48b0ab7903e",
   "metadata": {},
   "source": [
    "С помощью Desired State Configuration мы можем автоматизировать процесс установки ролей для серверов, развернутых в качестве веб-серверов.\n",
    "\n",
    "Создаем VM:\n",
    "- Azure portal -> deploy a custom template -> create windows VM:\n",
    "    - Resourece group\n",
    "    - admin: `vmadmin` + pass\n",
    "    - Review + create -> create\n",
    "\n",
    "Создаем automation account и настраиваем DSC:\n",
    "- Azure portal -> automation accounts -> create:\n",
    "    - Resource group\n",
    "    - Name: `automatewebservers`\n",
    "    - Review + create -> create\n",
    "- Go to resource -> State configuration (DSC) -> configurations (вкладка) -> add:\n",
    "    - Local create file `iis.ps1` and load it by name `IISInstall3`:\n",
    "\n",
    "        ```PowerShell\n",
    "        Configuration IISInstall3\n",
    "        {\n",
    "          node \"localhost\" {\n",
    "            WindowsFeature WebServer {\n",
    "              Ensure =\"Present\"\n",
    "              Name = \"Web-Server\"\n",
    "            }\n",
    "          }\n",
    "        }\n",
    "        ```\n",
    "\n",
    "    - Deep in IISInstall3 -> compile -> Yes -> wait for few minutes -> status Completed\n",
    "- Nodes (вкладка) -> add:\n",
    "    - check our VM -> connect\n",
    "        - Node configuration name: `IISInstall3.localhost`\n",
    "        - Пропустил Configuration mode : `ApplyandAutoCorrect`\n",
    "        - Allow module override: X\n",
    "        - Reboot node if needed: X\n",
    "        - Ok -> wait for few minutes -> status Compliant\n",
    "        \n",
    "Тестируем DSC:\n",
    "- Azure portal -> VMs -> our `simple-vm` -> connect RDP (piblic id + 3389) + `vmadmin` + pass\n",
    "- Server manager -> Manage (верхний пр угол) -> Remove roles and features:\n",
    "    - Next, next -> server roles -> uncheck IIS -> next -> remove\n",
    "- Restart VM (in Azure) -> reconnect VM RDP after few minutes\n",
    "- После перезагрузки можем проверить, что в Add role and features пункт IIS снова включен\n",
    "\n",
    "PS: я лично этого не заметил. Статус моего state configuration был Pending (в ожидании).  \n",
    "Оказывается, Всё из-за того, что в момент регистрации VM я не выбрал Configuration mode : `ApplyandAutoCorrect`.  \n",
    "Если перейти в `automatewebservers`, то можем увидеть, что появилась запись No compliant. Вроде бы как после запуска скрипта статус должен измениться на Compliant.\n"
   ]
  },
  {
   "cell_type": "markdown",
   "id": "ec88ec09-7c15-4c88-92e5-433de4281d98",
   "metadata": {},
   "source": [
    "### Concept 14: Exercise, Azure polices"
   ]
  },
  {
   "cell_type": "markdown",
   "id": "c0c47a2d-f673-44fb-8869-34297b2618d6",
   "metadata": {},
   "source": [
    "Просмотр  Azure police для предотвращения развертывания VM разного размера.\n",
    "\n",
    "- Azure cloud -> policy -> change new Scope -> choose Resource group `staging` -> select -> \n",
    "- click view all \n",
    "- check Allowed VM size SKUs -> страница подтверждает 100% согласие ресурсов\n",
    "\n",
    "Протестируем создание VM другого размера:\n",
    "- Azure portal -> VM:\n",
    "    - Resource group: `staging`\n",
    "    - Unnable to pick size `Standard E2s_v3`: Blocked by Policy\n",
    "    - Allow size `Standard DS1_v2` size\n",
    "    \n",
    "PS: политики действуют на выбор любых значений. Грубо говоря это административные фильтры."
   ]
  },
  {
   "cell_type": "markdown",
   "id": "ca432f22-6bcc-42aa-b507-1d45f116b506",
   "metadata": {},
   "source": [
    "### Concept 16: Blueprint"
   ]
  },
  {
   "cell_type": "markdown",
   "id": "55ecf07f-78e4-48f0-aabd-c32b08ceb069",
   "metadata": {},
   "source": [
    "**Blueprints** — сервис Azure Cloud, позволяющий в декларативном виде определять повторяемый набор ресурсов Azure Cloud, соответствующий стандартам и требованиям организации.\n",
    "\n",
    "Blueprints — подобие группировки templates.\n",
    "\n",
    "> Замечу что blueprint assignment может довольно интенсивно расходовать лимит на API calls, который не очень велик. Поэтому при небольших изменениях конфигурации лучше применять что-то более fine-grained. Мы blueprints используем когда развёртываем новую ресурсную группу с нуля, это действительно очень удобно.\n",
    "\n",
    "[source](https://habr.com/ru/company/dataart/blog/540956/#comment_22638210)\n",
    "\n",
    "Артефакты:\n",
    "- Roles\n",
    "- Politics\n",
    "- ARM templates\n",
    "- Resource groups"
   ]
  },
  {
   "cell_type": "markdown",
   "id": "7883c420-b82c-450d-9142-75feebb5940e",
   "metadata": {},
   "source": [
    "### Concept 18: Exercise, view a Blueprint"
   ]
  },
  {
   "cell_type": "markdown",
   "id": "141f7edf-009f-4e4c-b998-4e3781fafbfe",
   "metadata": {},
   "source": [
    "Знакомимся с Blueprints\n",
    "- Azure portal -> Blueprints -> Blueprint definitions -> check `Presetpolices`\n",
    "- Артефакты хранятся в виде дерева\n",
    "\n",
    "Тестируем Blueprint:\n",
    "- Azure portal -> Storage accounts -> create\n",
    "    - Resource group: `Production`\n",
    "    - Name: any\n",
    "    - Create\n",
    "- Go to resource -> видим, что Tag проставился автоматически\n",
    "- Если попробовать создать VM для `Production` resource group, то столкнемся с политикой, которая не позволяет это сделать."
   ]
  },
  {
   "cell_type": "markdown",
   "id": "cb2b1fa7-5797-4f57-916b-e3264f08ccb0",
   "metadata": {},
   "source": [
    "### Concept 20: Edge cases"
   ]
  },
  {
   "cell_type": "markdown",
   "id": "ad176138-3e0a-4a53-9f30-f7ea8fc177bd",
   "metadata": {},
   "source": [
    "Типы ошибок ARM template:\n",
    "- Validation\n",
    "- Deployment errors"
   ]
  },
  {
   "cell_type": "markdown",
   "id": "dd34fd5e-9d1c-4123-a12c-bcd43d5212d9",
   "metadata": {},
   "source": []
  }
 ],
 "metadata": {
  "kernelspec": {
   "display_name": "Python 3 (ipykernel)",
   "language": "python",
   "name": "python3"
  },
  "language_info": {
   "codemirror_mode": {
    "name": "ipython",
    "version": 3
   },
   "file_extension": ".py",
   "mimetype": "text/x-python",
   "name": "python",
   "nbconvert_exporter": "python",
   "pygments_lexer": "ipython3",
   "version": "3.8.12"
  }
 },
 "nbformat": 4,
 "nbformat_minor": 5
}
