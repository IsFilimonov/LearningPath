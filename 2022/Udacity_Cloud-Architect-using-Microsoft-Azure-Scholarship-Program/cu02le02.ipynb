{
 "cells": [
  {
   "cell_type": "markdown",
   "id": "6f7eb2f5-9f9c-4cf9-8ed6-7792966f6a68",
   "metadata": {},
   "source": [
    "# Curriculum 2: Designing Infrastructure and Managing Migration"
   ]
  },
  {
   "cell_type": "markdown",
   "id": "df94a672-b7ab-433f-b944-cc19642d2d96",
   "metadata": {},
   "source": [
    "## Lesson 2: Azure Cloud Capabilities"
   ]
  },
  {
   "cell_type": "markdown",
   "id": "b3829048-99f2-49d0-8ee7-3ea40851f7cd",
   "metadata": {
    "jp-MarkdownHeadingCollapsed": true,
    "tags": []
   },
   "source": [
    "#### Terms\n",
    "**SLA** (*Service Level Agreement*, *Соглашение об уровне обслуживания*) –– соглашение между компанией и облачным вендором по обеспечению % бесперебойной работы.  \n",
    "**VPN** (*Virtual Private Network*, *Виртуальная частная сеть*) –– технология, позволяющая безопасно передавать данные из одной сети в другую. Это удобно при удаленном доступе.  \n",
    "**High Availability** (*Высокая доступность*) –– внедрение различных технологий с целью минимизировать время простоя.  \n",
    "**VM** (*Virtual Machines*, *Виртуальная машина*) –– эмуляция системы, которая использует вычислительные мощности, а не физические.  "
   ]
  },
  {
   "cell_type": "markdown",
   "id": "92e34b93-dbe8-42bf-80e6-5e786457ebcb",
   "metadata": {},
   "source": [
    "### Concept 6: Exercise, Creating Web Servers"
   ]
  },
  {
   "cell_type": "markdown",
   "id": "d31bf375-95e2-4a80-b7a0-3eeca1df0213",
   "metadata": {},
   "source": [
    "(**VM**) После создания учебного окружения на 2 часа, можно использовать login и pass для доступа в портал Azure.\n",
    "\n",
    "1. Azure Portal: https://portal.azure.com/\n",
    "2. Выбираем Virtual Machine\n",
    "3. Заполняем обязательные пункты (VM name, Azure Resource Group (RSG), Subscription, Region, VM size, credentials...)\n",
    "4. Заполняем необязательные пункты (Auto-shutdown, Data Disk, Load Balancing, tags...)\n",
    "5. Review + Create\n",
    "\n",
    "Порты:\n",
    "- HTTP 80\n",
    "- HTTPS 443\n",
    "- SSL 22\n",
    "- RDP 3389\n",
    "\n",
    "После создания VM можно подключиться с помощью RDP к удаленному рабочему столу:\n",
    "- VM Web01 -> Connect -> RDP \n",
    "- Download RDP file\n",
    "- Или просто указываем в программе public IP + port (login+pass указывали ранее)\n",
    "\n",
    "(**IIS**) После подключения идем в Server Manager -> Add role and Features Wizard:\n",
    "- Шаг Server roles -> Включаем Web server (IIS)\n",
    "- Next, next, next, install\n",
    "\n",
    "В панеле управления можно найти IIS и расположение файлов сайта, которые открываются по публичному IP VM."
   ]
  },
  {
   "cell_type": "markdown",
   "id": "92969876-4454-494b-b5db-1101d4cd012e",
   "metadata": {},
   "source": [
    "### Concept 8: High Availability"
   ]
  },
  {
   "cell_type": "markdown",
   "id": "7b93b3a0-bbf3-42bc-a0e7-1379f6be5be9",
   "metadata": {},
   "source": [
    "Azure HA details:\n",
    "- Availability zones –– регионы и различные дата-центры\n",
    "- VM scale sets –– кастомизация настроек VM (ядра, доменты и тд)\n",
    "- Availability sets\n",
    "    - Fault domains\n",
    "    - Update domains\n",
    "\n",
    "Load balancing:\n",
    "- Application gateway\n",
    "- Front door\n",
    "- Azure load balance\n",
    "- Traffic manager\n",
    "\n",
    "**Scale sets** –– service that combine a group of VMs to be rus as a single unit.  \n",
    "**Availability set** –– strategic grouping of VMs resources для обеспечения отсутствия single point поражения в ЦОД.\n",
    "\n"
   ]
  },
  {
   "cell_type": "markdown",
   "id": "65e4db64-300c-4728-a11d-8cc168824f76",
   "metadata": {},
   "source": [
    "### Concept 9: Use Load Balancer to Distribute Web Traffic"
   ]
  },
  {
   "cell_type": "markdown",
   "id": "03331db6-b1f0-4929-a30f-f0649231317a",
   "metadata": {},
   "source": [
    "Так как у учебного окружения тайм-аут в 2ч, созданные ранее VM недоступны и необходимо пересоздавать всё заново."
   ]
  },
  {
   "cell_type": "markdown",
   "id": "2ba1d4e9-97fb-45fc-9447-ccc3e0fe40d0",
   "metadata": {},
   "source": [
    "#### Create the Load balancer\n",
    "\n",
    "1. Azure Portal: https://portal.azure.com/\n",
    "2. Выбираем Load balancer\n",
    "3. Basics: Resource group, Instance name\n",
    "4. Frontend IP configuration: add Frontend IP configuration -> create new Public IP address\n",
    "5. Review and Create -> Create\n",
    "6. Ищем на портале Virtual networks -> create Virtual network\n",
    "7. Basics: Resource group (from step 2), Instance name\n",
    "8. IP addresses: не должно быть конфликтов\n",
    "9. Review and Create -> Create"
   ]
  },
  {
   "cell_type": "markdown",
   "id": "118ab5c2-c940-43e1-bba6-b27f0453b28d",
   "metadata": {},
   "source": [
    "#### Create the First VM for the Backend Pool\n",
    "\n",
    "1. Azure Portal: https://portal.azure.com/\n",
    "2. Virtual Machines -> create VM\n",
    "3. Basics: \n",
    "    - Project details: \n",
    "        - Resource group\n",
    "    - Instance details:  \n",
    "        - Instance name\n",
    "        - Availability options = `Availability zone` + Availability zone = `1`\n",
    "        - Image = `Windows server 2019 GEN 1` (можно изм gen 2 на gen 1 нажав configure VM generation)\n",
    "        - Size = `*DS1_v2*`\n",
    "    - Administratoc account: \n",
    "        - loging + pass\n",
    "    - Inbound ports: \n",
    "        - HTTP, HTTPS, RDP\n",
    "4. Networking: \n",
    "    - Network interface: \n",
    "        - Virtual network & Subnet & Public IP (filled from Load balancer)\n",
    "        - NIC network security group = `Advanced`\n",
    "        - Configure network security group (filled from Load balancer)\n",
    "    - Load balancing: \n",
    "        - Check In Place this virtual machine behind an existing load balancing solution? for true\n",
    "    - Load balancing settings: \n",
    "        - Load balancing options = `Azure load balancer`\n",
    "        - Load balancer = `weblb` (from Load balancer)\n",
    "        - ??create Backend pool = `webbackendpool`??\n",
    "5. Management:\n",
    "    - Monitoring: \n",
    "        - Boot diagnostic `disable`\n",
    "6. Review and Create -> Create"
   ]
  },
  {
   "cell_type": "markdown",
   "id": "83eac204-023d-4eb6-87a6-5071c2b35ab0",
   "metadata": {},
   "source": [
    "#### Create the Second VM for the Backend Pool\n",
    "\n",
    "1. Azure Portal: https://portal.azure.com/\n",
    "2. Virtual Machines -> create VM\n",
    "3. Basics: simmilar to the First VM, only Availability zone = `2` (not 1)\n",
    "4. Networking: simmilar to the First VM\n",
    "5. Management: Boot diagnostic `disable`\n",
    "6. Review and Create -> Create"
   ]
  },
  {
   "cell_type": "markdown",
   "id": "500e3b70-38f0-4691-ad6a-1b451815d1ee",
   "metadata": {},
   "source": [
    "#### Modify your Network Security Groups for the Backend Pools\n",
    "\n",
    "1. Azure Portal: https://portal.azure.com/\n",
    "2. Network Security Groups (уже созданы для каждой VM, в classic - нет) -> web01lb-nsg (уже создана) -> Settings: \n",
    "3. add Inbound security rules (for the both VMs):\n",
    "    - Source = `service tag` \n",
    "    - Source service tag = `Internet`\n",
    "    - Source port ranges `*`\n",
    "    - Destination `any`\n",
    "    - Destination port ranges `80`\n",
    "    - Protocol `TCP`\n",
    "    - Action `Allow`\n",
    "    - Priority `100`\n",
    "    - Name `HTTP`\n",
    "4. Add IIS for both VMs: \n",
    "    - connect by RDP (`VMsIP:3389) to VM1, VM2 and config IIS like in CU02LE02CO03\n",
    "    - create `index.html` for both"
   ]
  },
  {
   "cell_type": "markdown",
   "id": "5c5e11f5-ab37-46d7-98df-f84e76c6ac50",
   "metadata": {},
   "source": [
    "#### Establish the Network the Backend Pool VMs\n",
    "\n",
    "1. Azure Portal: https://portal.azure.com/\n",
    "2. Virtual machines -> web01lb -> Settings -> Networking\n",
    "3. Load balancing: add load balancing (на самом деле я создал их еще в меню создания VM)\n",
    "    - Load balancing options `Azure load balancer`\n",
    "    - Load balancer `weblb` (создавали ранее)\n",
    "    - new Backend pool\n",
    "4. Аналогично для web02lb\n"
   ]
  },
  {
   "cell_type": "markdown",
   "id": "c6145d81-9464-4f7d-b40a-c225781ad2df",
   "metadata": {},
   "source": [
    "#### Setup the Healthprobe\n",
    "\n",
    "Healthprobe проверит каждый веб-сервер и приостановит маршрутизацию трафика на сервер, который не отвечает.\n",
    "\n",
    "1. Azure Portal: https://portal.azure.com/\n",
    "2. Load balancers -> `weblb` (уже созданный) -> Settings -> Health probes \n",
    "3. Add Health probe: \n",
    "    - Name `Healthprobe1`\n",
    "    - Protocol `HTTP`\n",
    "    - Port `80`\n",
    "    - Path `/`\n",
    "    - Interval `5`\n",
    "    - Unhealthy threshold `2`\n",
    "4. Load balancers -> `weblb` (уже созданный) -> Settings -> Load balancer rules\n",
    "5. Add load balancer rule: \n",
    "    - Name `httptowebserver`\n",
    "    - IP `IPv4`\n",
    "    - Frontend IP check `loadbalancerIP`\n",
    "    - Backend pool check `webbackendpool`\n",
    "    - Protocol `TCP`\n",
    "    - Port `80`\n",
    "    - Backend port `80`\n",
    "    - Healthprobe check `healthprobe1`\n",
    "    - Session persistence `None`\n",
    "    - Timeout `4`\n",
    "    - TCP reset `Disable`\n",
    "    - Floating IP `Disable`\n",
    "    - ...SNAT check (recomend)."
   ]
  },
  {
   "cell_type": "markdown",
   "id": "0e04a0a9-cde8-4615-86be-34d8c1349ccc",
   "metadata": {},
   "source": [
    "#### Confirm Everything is Working\n",
    "\n",
    "1. Azure Portal: https://portal.azure.com/\n",
    "2. Load balancers -> `weblb` -> Overview -> в дашборде see more -> Public IP address\n",
    "3. Отключаем IIS и трафик перенаправляется на другую VM."
   ]
  },
  {
   "cell_type": "markdown",
   "id": "771eeae3-53d0-49ee-bb77-fd1bbc219f90",
   "metadata": {},
   "source": [
    "### Concept 12: Quiz, Application services"
   ]
  },
  {
   "cell_type": "markdown",
   "id": "081e5d69-adac-4389-87cc-dd0aa2b0e305",
   "metadata": {},
   "source": [
    "**Load Balancing**: traffic manager, application gateway, исп как серверы угроз.  \n",
    "**VM scale set**: позволяет приложению автоматически масштабироваться, все VM в одном SS настраиваются и управляются как одно целое.  "
   ]
  },
  {
   "cell_type": "markdown",
   "id": "e3fe6838-12c2-49d0-acce-ba4ce50fc49b",
   "metadata": {},
   "source": [
    "### Concept 13: Exercise, Create a DNN Web App "
   ]
  },
  {
   "cell_type": "markdown",
   "id": "77ec46f6-0cc0-4274-84ae-2aec45a24f4e",
   "metadata": {},
   "source": [
    "На Виртуальных машинах Azure имя распределенной сети (DNN) маршрутизирует трафик в соответствующий кластерный ресурс. Оно обеспечивает более простой способ подключения к экземпляру отказоустойчивого кластера (FCI) SQL Server, чем имя виртуальной сети (VNN), и не требует использования Azure Load Balancer.\n",
    "\n",
    "1. Azure Portal: https://portal.azure.com/\n",
    "2. DNN Platform:\n",
    "    - Name: `DNN<unique>`\n",
    "    - Resource group: choose exists\n",
    "    - SQL Database -> create Database (я случайно отменил создание БД и поэтому пришлось отдельно создавать в разделе БД, но в рамках DNN создание БД выглядит менее избыточно):\n",
    "        - Name: DNNDB\n",
    "        - Target server: new server\n",
    "            - Name server: `DNN<unique>`\n",
    "            - Login + Pass\n",
    "        - Pricing tier: Standard S1, 20 DTU, 250 gb \n",
    "3. Deploy=Create (создается довольно много позиций)\n",
    "4. Go to the created DNN app service -> Overview -> copy URL -> open URL (потребуется некоторое время)\n",
    "5. fill data:\n",
    "    - Administrative Information:\n",
    "        - Username: `host` (для прода получше что-нибудь)\n",
    "    - Database Information:\n",
    "        - Database Type: chose `SQL Server/SQL server express database`\n",
    "        - Server name: `DNN<unique>.database.windows.net`\n",
    "        - DB Name: `DNNDB` (из пред шага)\n",
    "        - Security: choose `User defined`\n",
    "        - DB login + DB pass\n",
    "        - check in `Database owner`\n",
    "6. Visit Website `https://dnn<unique>.azurewebsites.net`\n",
    "\n",
    "В дополнение: можно перейти в SQL DB и посмотреть что хранится в БД. Адрес БД примерно `dnn<unique>.database.windows.net`. При попытке подключиться с локального компа, потребуется внести IP в whitelist (просто нажимаем на гипертекст ошибки при попытке перехода в Query editor)."
   ]
  },
  {
   "cell_type": "markdown",
   "id": "b6ac2912-57c9-4815-a885-c7c6bddb3e98",
   "metadata": {},
   "source": [
    "### Concept 15: Architecting Solution to Meet SLA Requirements"
   ]
  },
  {
   "cell_type": "markdown",
   "id": "9a537000-b078-4293-8370-0c75ae9069de",
   "metadata": {},
   "source": [
    "Design patterns: design principles:\n",
    "- Design of self-healing\n",
    "- Design for redundancy\n",
    "- Design to scale out\n",
    "- Design for evolution\n",
    "- Design for operations\n",
    "- Managed services\n",
    "- Focus on business needs\n",
    "\n",
    "Types of styles:\n",
    "- Big computer\n",
    "- Big data\n",
    "- Event-driven architecture\n",
    "- Microservices"
   ]
  },
  {
   "cell_type": "markdown",
   "id": "5491daa9-ef4b-4c1d-959b-df6e7e2ea681",
   "metadata": {},
   "source": [
    "### Concept 16: Communication Design Between On-premise and Cloud"
   ]
  },
  {
   "cell_type": "markdown",
   "id": "0217c53e-11c4-4d84-8185-d78037136058",
   "metadata": {},
   "source": [
    "You will need to consider a few different factors when designing a network solution:\n",
    "- Latency\n",
    "- Security\n",
    "- Speed\n",
    "- Redundancy\n",
    "\n",
    "And you will be using tools to communicate between:\n",
    "- VNET/VNET Peering\n",
    "- Gateway\n",
    "- VPN\n",
    "- Network Watcher\n",
    "\n",
    "These tools determine the method:\n",
    "- Using VNTE\n",
    "- Virtual Network Endpoints\n",
    "- VNET Peering\n",
    "- Private Link\n",
    "\n",
    "Here are some ways to communicate with On-premise:\n",
    "- Point-to-Site Virtual Private Network (VPN)\n",
    "- Site-to-Site VPN\n",
    "- Azure ExpressRoute"
   ]
  },
  {
   "cell_type": "markdown",
   "id": "77330a97-5810-4587-8258-332fc0a12354",
   "metadata": {},
   "source": [
    "### Concept 17: Route Based VPNs"
   ]
  },
  {
   "cell_type": "markdown",
   "id": "832b5981-a094-40c8-92e4-f683e3f74cff",
   "metadata": {},
   "source": [
    "<img src=\"imgs/cu02le02co17.png\" title=\"Инструменты и среда\" width=\"400\" height=\"400\" />\n"
   ]
  },
  {
   "cell_type": "markdown",
   "id": "fd2c1bc5-a927-4572-997f-30679621d641",
   "metadata": {},
   "source": [
    "### COncept 18: Quiz, Route Based VPNs"
   ]
  },
  {
   "cell_type": "markdown",
   "id": "8750fb59-6adc-4306-a57c-f7027e480696",
   "metadata": {},
   "source": [
    "**VN peering** –– Methods to communicate among Azure resources.  \n",
    "**ExpressRoute** –– Methods to securely communicate with on-premises networks.  \n",
    "**Network Security group** –– Used to filter traffic to and from other Azure resources."
   ]
  },
  {
   "cell_type": "markdown",
   "id": "57c6d604-8885-4c0b-a913-7e9e59a327fa",
   "metadata": {},
   "source": [
    "### Concept 19: Exercise, Create VPN Gateway"
   ]
  },
  {
   "cell_type": "markdown",
   "id": "6fd502ee-92ed-45a7-95d8-b2f41419744b",
   "metadata": {},
   "source": [
    "Создадим VPN шлюз, который необходим для соединения локальной среды с Azure. Полезно, когда нет необходимости ресурсам Azure быть доступными в общем интернете.\n",
    "\n",
    "1. Azure Portal: https://portal.azure.com/\n",
    "2. Virtual networks -> create:\n",
    "    - Basics:\n",
    "        - Resource group: check in\n",
    "        - Name: `vpngw1`\n",
    "    - IP addresses: all default\n",
    "    - Security: all `disable`\n",
    "3. Virtual network gateways -> Create:\n",
    "    - Basics (instance):\n",
    "        - Name: `mynetworkgw1`\n",
    "        - Gateway type: `VPN`\n",
    "        - VPN type: `Route based`\n",
    "        - SKU: `VpnGW1` + Generation: `Generation1`\n",
    "        - Virtual network: recently early created\n",
    "        - Gateway subnet address range: as default `10.0.1.0/24` (2 point, 256 addresses)\n",
    "    - Basics (public IP address):\n",
    "        - `create new`\n",
    "        - name: `vpnGW1IP`\n",
    "        - Enable active-active mode, Configure BGP: `disable`\n",
    "4. Go to resource -> Public IP address"
   ]
  },
  {
   "cell_type": "markdown",
   "id": "4f059942-93df-44d1-a63d-fee3ae09bd9b",
   "metadata": {},
   "source": [
    "### Concept 21: Network Security Group Modifications"
   ]
  },
  {
   "cell_type": "markdown",
   "id": "d65a7bb3-1aac-4480-9c61-c45b2d289095",
   "metadata": {},
   "source": [
    "Группа безопасности сети Azure (Network Security Group) позволяет фильтровать входящий и исходящий трафик ресурсов Azure в виртуальной сети Azure. В этой группе содержатся правила безопасности, которые разрешают или запрещают исходящий и входящий трафик нескольких типов ресурсов Azure. \n",
    "\n",
    "NSG похож на брандмауэр, но имеет только базовые функции. Правила NSG будут иметь приоритет над правилами брандмауэра. Дублирование правил тоже не лучшая стратегия."
   ]
  },
  {
   "cell_type": "markdown",
   "id": "20b94b7d-c66c-4496-8d82-22c5869f2f8d",
   "metadata": {},
   "source": [
    "### Concept 23: Exercise, Use NSG to open ports for FTP"
   ]
  },
  {
   "cell_type": "markdown",
   "id": "f3eb6c6d-7dd0-44ec-98c5-e625617f9311",
   "metadata": {},
   "source": [
    "1. Azure Portal: https://portal.azure.com/\n",
    "2. Create VM (concept 6)\n",
    "3. Go to VM -> copy Public IP address -> connect via RDP port 3389\n",
    "4. Create IIS (concept 6)\n",
    "    - Server roles: When check IIS при развороте `Web Server (IIS)` проставляются не все галки. Внутри будет пункт `FTP server`\n",
    "    - Features: В следующем окне `Telnet client`\n",
    "5. IIS -> `web01` -> right mouse Add FTP site\n",
    "    - Name: `myftpsite`\n",
    "    - Path: `c:\\inetpub\\wwwroot`\n",
    "    - Binding and SSL:\n",
    "        - IP Address: `all unsigned`\n",
    "        - Port: `21`\n",
    "        - check Start FTP automatically\n",
    "        - SSL: `required`\n",
    "        - SSL certificate: tenant encryptioncert\n",
    "    - Authentication:\n",
    "        - Authentication: check in `Basic`\n",
    "        - Allow access to: choose `All users`\n",
    "        - Permissions: Select both `Read` and `Write`\n",
    "6. Теперь можно подключиться к FTP внутри VM, но не извне. CMD -> `telnet localhost 21`. Теперь нам нужно перейти к настройке сервера для внешнего доступа, изменив внутренний брандмауэр, а также правила Azure NSG.\n",
    "7. IIS -> FTP Firewall Support\n",
    "    - Вносим Public IP из VM Azure portal\n",
    "    - `net stop ftpsvc` stop FTP \n",
    "    - `net start ftpsvc` run FTP\n",
    "8. Portal -> VM -> Networking -> add Inbound port rule:\n",
    "    - Port range: `21, 5000-6000`\n",
    "    - Name: `FTPservices`\n",
    "9. Test FTP by Filezila, к примеру   "
   ]
  },
  {
   "cell_type": "markdown",
   "id": "ed1700f1-c394-40e5-aa97-54bdd8853cd4",
   "metadata": {},
   "source": []
  }
 ],
 "metadata": {
  "kernelspec": {
   "display_name": "Python 3 (ipykernel)",
   "language": "python",
   "name": "python3"
  },
  "language_info": {
   "codemirror_mode": {
    "name": "ipython",
    "version": 3
   },
   "file_extension": ".py",
   "mimetype": "text/x-python",
   "name": "python",
   "nbconvert_exporter": "python",
   "pygments_lexer": "ipython3",
   "version": "3.8.12"
  }
 },
 "nbformat": 4,
 "nbformat_minor": 5
}
