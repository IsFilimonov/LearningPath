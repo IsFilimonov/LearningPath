{
 "cells": [
  {
   "cell_type": "markdown",
   "id": "59eeace1-13a0-42cb-bedf-099df28526b0",
   "metadata": {},
   "source": [
    "# Curriculum 2: Designing Infrastructure and Managing Migration"
   ]
  },
  {
   "cell_type": "markdown",
   "id": "cac33e81-acac-4d6d-9daa-b98820b744c4",
   "metadata": {},
   "source": [
    "## Lesson 4: Migration"
   ]
  },
  {
   "cell_type": "markdown",
   "id": "0b898d22-b25c-4167-9b90-dff922a5c4ca",
   "metadata": {},
   "source": [
    "### Concept 1: Intro"
   ]
  },
  {
   "cell_type": "markdown",
   "id": "277596de-0a7b-4fd7-a7c9-0c76fb3fdced",
   "metadata": {},
   "source": [
    "- Migration stages\n",
    "- Migrateable resources\n",
    "- Strategize\n",
    "- Tools"
   ]
  },
  {
   "cell_type": "markdown",
   "id": "f73903a3-e183-4ce3-bf98-ae0739342c05",
   "metadata": {},
   "source": [
    "### Concept 2: The Approach"
   ]
  },
  {
   "cell_type": "markdown",
   "id": "4a4e2f69-56cf-42b7-9101-9fe350e2f410",
   "metadata": {},
   "source": [
    "Migration options:\n",
    "- **Rehost** - миграция VM from your on-premises environment into Azure\n",
    "- **Refactor** - миграция services запущенных на VM into Platform-as-a-service\n",
    "- **Rearchitect** - изменения, для существующих приложений, необходимые для использования облачных функций\n",
    "- **Rebuild** - воссоздание с нуля\n",
    "- **Replace** - часто, сервисы (БД к примеру) безопаснее исп в рамках платформы облака, нежели свои поднимать."
   ]
  },
  {
   "cell_type": "markdown",
   "id": "6b849423-d078-42f7-88f3-bb39b53dc075",
   "metadata": {},
   "source": [
    "### Concept 3: Intro to Azure Migrate & Assess"
   ]
  },
  {
   "cell_type": "markdown",
   "id": "c91b6e15-90d4-4680-ae12-e0aaa20cd71a",
   "metadata": {},
   "source": [
    "4 main stages to migrate into Azure cloud:\n",
    "- **Assets** (оценка) –– проверяет всю среду на предмет потенциальных проблем и рабочих нагрузок, которые можно перенести.\n",
    "- **Migrate** –– Azure может сопоставить вашу текущую рабочую нагрузку с VMs\\Services Azure\n",
    "- **Optimize** –– нахождение точек для оптимизации\n",
    "- **Monitoring** –– поиск аномалий, проблем и тд."
   ]
  },
  {
   "cell_type": "markdown",
   "id": "06b31c94-6fa2-4d7f-be79-946a17f6330c",
   "metadata": {},
   "source": [
    "### Concept 5: Exercise, Use TCO to Estimate Cost Savings by Migrating to Azure Cloud"
   ]
  },
  {
   "cell_type": "markdown",
   "id": "efc128bf-e198-4012-95b8-6d74cde10183",
   "metadata": {},
   "source": [
    "On-premises environment:\n",
    "- 1 MS-SQL Database Server2016[OS Windows Server 2019) (3 CPUS, 500 GB, 10 GB of RAM)]\n",
    "- 1 MySQL Database Server Version 8[OS Windows Server 2019) (3 CPUS, 500 GB, 10 GB of RAM)]\n",
    "- 2 Server 2019 web servers with identical setup(2 CPUs for each machine, 4 GB of RAM for each machine,100 GB of storage for each machine )\n",
    "    - 1 web server is using DNN with a small website that connects to the MS-SQL database and\n",
    "    - 1 web server has 1 website that is using WordPress and connects to the MySQL database server.\n",
    "- 1 Backup server (OS Server 2019 , 4 CPUs , 2 TB Storage space, 16 GB of RAM)\n",
    "\n",
    "https://azure.microsoft.com/en-us/pricing/tco/calculator/ калькулятор.\n",
    "\n"
   ]
  },
  {
   "cell_type": "markdown",
   "id": "95f9be72-5b85-4093-8277-31b8c57f107a",
   "metadata": {},
   "source": [
    "### Concept 9: Exercise, Create a VM with SQL Exercise\n",
    "\n",
    "Создаем SQL DB в виртуальной машине:\n",
    "- Azure Portal\n",
    "- **SQL virtual machines** -> Create -> choose image SQL VM: SQL Server 2019 Standard on Windows Server\n",
    "    - choose Resource group\n",
    "    - Instance details:\n",
    "        - VM name: `MSSQL01`\n",
    "        - Image: `SQL server 2019 STANDARD on windows server 2019 gen 1`\n",
    "        - Size: `Standard DS1_v2`\n",
    "        - User: `sqladmin` + pass\n",
    "        - Public inbound ports: allow, `RDP (3389)`\n",
    "    - SQL Server settings:\n",
    "        - SQL authentification: enable\n",
    "        - Login: `dbadmin` + pass\n",
    "        - SQL server license: no\n",
    "        - Auto backup: disable \n",
    "        - SQL Server ML services: disable \n",
    "- View + Create\n",
    "\n",
    "Восстанавливаем БД из файла:\n",
    "- Downloaded a `.bak` file\n",
    "- `Go to resource` to the created VM for check public IP\n",
    "- connect by RDP to the VM:\n",
    "    - public_ip:3389\n",
    "    - connect and fill: `sqladmin` + pass\n",
    "- Copy the `.bak` file and paste into `C:\\`\n",
    "- go to `SQL server managment studio`\n",
    "    - Server type: `Database engine`\n",
    "    - Server name: `MSSQL01`\n",
    "    - Authentication: SQL server auth\n",
    "    - Login: `dbadmin` + pass\n",
    "- `Databases` -> restore database -> Device -> add `.bak` file -> Ok\n",
    "- For verify choose table and select top 100 rows."
   ]
  },
  {
   "cell_type": "markdown",
   "id": "1f91733f-2aca-4e46-bc86-763a16a9d0db",
   "metadata": {},
   "source": [
    "### Concept 12: Exercise, Execute Migration Exercise\n",
    "\n",
    "Создаем БД в облаке:\n",
    "- Azure portal\n",
    "- Azure SQL -> create `Single database`:\n",
    "    - Resource group: `Databases-*` not `databaseservers-*`\n",
    "    - DB name: `Adventure`\n",
    "    - create new Server:\n",
    "        - Server name: `sqlfullmoon`\n",
    "        - Server admin login: `cloudadmin` + pass\n",
    "        - Ok\n",
    "    - Want to use elastic pool: No\n",
    "    - Config database:\n",
    "        - Service tier: Standard \n",
    "        - DTU=10 + 0.1 gb\n",
    "        - Apply\n",
    "    - Networking:\n",
    "        - Public endpoint \n",
    "        - Allow Azure to acess: Yes\n",
    "        - Add current client IP: Yes\n",
    "    - Reviw + create\n",
    "\n",
    "Запускаем миграцию:\n",
    "- На локальной машине -> Data Migration Assistant -> New\n",
    "    - Migration\n",
    "    - PJ name: `adventure-migrate`\n",
    "    - SQL server\n",
    "    - Azure SQL DB\n",
    "    - Schema and data\n",
    "    - Create\n",
    "- 1. Select rource\n",
    "    - MSSQL01\n",
    "    - Windows auth\n",
    "    - check-in encript and trust certificate\n",
    "    - Connect -> Next\n",
    "- 2. Select target\n",
    "    - `sqlfullmoon.database.windows.net`\n",
    "    - SQL auth\n",
    "    - `cloudadmin` + pass\n",
    "    -> Connect -> Next\n",
    "- 3. Select objects\n",
    "    - Generate SQL script\n",
    "- 4. Script & deploy schema\n",
    "    - Deploy schema\n",
    "    - Migrate data\n",
    "- 5. Select tables\n",
    "    - start data migrate\n",
    "    \n",
    "Тестируем результат миграции:\n",
    "- RDP -> SQL server management studio:\n",
    "    - server name: `sqlfullmoon.database.windows.net`\n",
    "    - sql server auth\n",
    "    - `cloudadmin` + pass\n",
    "    - connect\n",
    "    - select top 1000 rows"
   ]
  },
  {
   "cell_type": "markdown",
   "id": "419936ed-15c9-43d9-ab26-1a97219ef351",
   "metadata": {},
   "source": []
  }
 ],
 "metadata": {
  "kernelspec": {
   "display_name": "Python 3 (ipykernel)",
   "language": "python",
   "name": "python3"
  },
  "language_info": {
   "codemirror_mode": {
    "name": "ipython",
    "version": 3
   },
   "file_extension": ".py",
   "mimetype": "text/x-python",
   "name": "python",
   "nbconvert_exporter": "python",
   "pygments_lexer": "ipython3",
   "version": "3.8.12"
  }
 },
 "nbformat": 4,
 "nbformat_minor": 5
}
