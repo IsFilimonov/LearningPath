{
 "cells": [
  {
   "cell_type": "markdown",
   "metadata": {},
   "source": [
    "**ИНТЕРАКТИВНЫЙ ТРЕНАЖЕР ПО SQL. ОСНОВЫ РЕЛЯЦИОННОЙ МОДЕЛИ И SQL.**\n",
    "\n",
    "[Курс](https://stepik.org/course/63054/syllabus) на Stepik.\n",
    "\n",
    "Автор: **Озерова Галина Павловна**  \n",
    "<img src=\"imgs/ozerova.JPG\" title=\"Озерова Галина Павловна\" width=\"200\" height=\"200\"/>\n",
    "\n",
    "Конспектировал: **Илья Филимонов** (GiHub: [@IsFilimonov](https://github.com/IsFilimonov))  \n",
    "\n",
    "<img src=\"imgs/IsFilimonov.png\" title=\"Илья Филимонов\" width=\"200\" height=\"200\"/>\n",
    "\n",
    "---"
   ]
  },
  {
   "cell_type": "markdown",
   "metadata": {
    "toc": true
   },
   "source": [
    "<h1>Table of Contents<span class=\"tocSkip\"></span></h1>\n",
    "<div class=\"toc\"><ul class=\"toc-item\"><li><span><a href=\"#Введение\" data-toc-modified-id=\"Введение-1\"><strong>Введение</strong></a></span><ul class=\"toc-item\"><li><span><a href=\"#От-конспектирующего\" data-toc-modified-id=\"От-конспектирующего-1.1\">От конспектирующего</a></span></li><li><span><a href=\"#Памятка-о-типичных-ошибках-и-способах-их-исправления\" data-toc-modified-id=\"Памятка-о-типичных-ошибках-и-способах-их-исправления-1.2\">Памятка о типичных ошибках и способах их исправления</a></span></li></ul></li><li><span><a href=\"#Основные-понятия-реляционных-баз-данных\" data-toc-modified-id=\"Основные-понятия-реляционных-баз-данных-2\"><strong>Основные понятия реляционных баз данных</strong></a></span><ul class=\"toc-item\"><li><span><a href=\"#1.7-Таблица-&quot;Нарушения-ПДД&quot;,-запросы-корректировки\" data-toc-modified-id=\"1.7-Таблица-&quot;Нарушения-ПДД&quot;,-запросы-корректировки-2.1\"><strong>1.7 Таблица \"Нарушения ПДД\", запросы корректировки</strong></a></span><ul class=\"toc-item\"><li><span><a href=\"#Структура-и-наполнение-таблицы\" data-toc-modified-id=\"Структура-и-наполнение-таблицы-2.1.1\">Структура и наполнение таблицы</a></span></li><li><span><a href=\"#Задание-1\" data-toc-modified-id=\"Задание-1-2.1.2\">Задание 1</a></span></li><li><span><a href=\"#Задание-2\" data-toc-modified-id=\"Задание-2-2.1.3\">Задание 2</a></span></li><li><span><a href=\"#Использование-временного-имени-таблицы-(алиаса)\" data-toc-modified-id=\"Использование-временного-имени-таблицы-(алиаса)-2.1.4\">Использование временного имени таблицы (алиаса)</a></span></li><li><span><a href=\"#Задание-3\" data-toc-modified-id=\"Задание-3-2.1.5\">Задание 3</a></span></li><li><span><a href=\"#Задание-4\" data-toc-modified-id=\"Задание-4-2.1.6\">Задание 4</a></span></li><li><span><a href=\"#Задание-5\" data-toc-modified-id=\"Задание-5-2.1.7\">Задание 5</a></span></li><li><span><a href=\"#Задание-6\" data-toc-modified-id=\"Задание-6-2.1.8\">Задание 6</a></span></li><li><span><a href=\"#Задание-7\" data-toc-modified-id=\"Задание-7-2.1.9\">Задание 7</a></span></li><li><span><a href=\"#Задание-8\" data-toc-modified-id=\"Задание-8-2.1.10\">Задание 8</a></span></li><li><span><a href=\"#Заключение\" data-toc-modified-id=\"Заключение-2.1.11\">Заключение</a></span></li></ul></li></ul></li></ul></div>"
   ]
  },
  {
   "cell_type": "markdown",
   "metadata": {},
   "source": [
    "# **Введение**"
   ]
  },
  {
   "cell_type": "markdown",
   "metadata": {},
   "source": [
    "## От конспектирующего\n",
    "(Не реклама): сам курс использует диалект MySQL, но мне комфортнее использовать PostgreSQL 12.6 ([download](https://www.postgresql.org/download/)).  \n",
    "[Рекомендации](https://wiki.postgresql.org/wiki/Don%27t_Do_This) того, чего не нужно делать в Postgres.\n",
    "\n",
    "Для работы с базой лично я использую IDE [DataGrip](https://www.jetbrains.com/ru-ru/datagrip/) (платная) или [Dbeaver](https://dbeaver.io/) (бесплатная) - под MacOS. \n",
    "\n",
    "Это всё сторонние решения, но можно воспользоваться более [простым способом](https://towardsdatascience.com/heres-how-to-run-sql-in-jupyter-notebooks-f26eb90f3259) - использовать Jupyter Notebook в роли SQL IDE. Для этого нам потребуется установить несколько библиотек. Для работы с Jupyter Notebook я использую платформу [Anaconda](https://www.anaconda.com/), поэтому все нужные библиотеки для работы я буду устанавливать именно в эту среду. Я не буду останавливаться на деталях в вопросе \"как?\", чтобы в деталях не закопаться. В интернете полно подсказок. Главное, должны быть установлены:\n",
    "- `ipython-sql` - [пакет](https://anaconda.org/conda-forge/ipython-sql) для работы с SQL запросами;\n",
    "- `psycopg2` или `psycopg2-binary` - драйвер базы данных Postgres. Там есть нюансы с установкой;\n",
    "- `sqlalchemy` - ORM для работы с SQL БД.\n",
    "\n",
    "\n",
    "Более подробно читайте [статью](https://towardsdatascience.com/heres-how-to-run-sql-in-jupyter-notebooks-f26eb90f3259), которая была выше."
   ]
  },
  {
   "cell_type": "markdown",
   "metadata": {},
   "source": [
    "Для установки соединения с БД мы единожды используем SQL Alchemy."
   ]
  },
  {
   "cell_type": "code",
   "execution_count": 1,
   "metadata": {},
   "outputs": [],
   "source": [
    "import sqlalchemy"
   ]
  },
  {
   "cell_type": "markdown",
   "metadata": {},
   "source": [
    "Далее создаем соединение."
   ]
  },
  {
   "cell_type": "code",
   "execution_count": 2,
   "metadata": {},
   "outputs": [
    {
     "data": {
      "text/plain": [
       "Engine(postgresql://localhost:5432/postgres)"
      ]
     },
     "execution_count": 2,
     "metadata": {},
     "output_type": "execute_result"
    }
   ],
   "source": [
    "sqlalchemy.create_engine(\"postgresql://localhost:5432/postgres\")"
   ]
  },
  {
   "cell_type": "markdown",
   "metadata": {},
   "source": [
    "Загружаем extension."
   ]
  },
  {
   "cell_type": "code",
   "execution_count": 3,
   "metadata": {},
   "outputs": [],
   "source": [
    "%load_ext sql"
   ]
  },
  {
   "cell_type": "markdown",
   "metadata": {},
   "source": [
    "Проверяем соединение."
   ]
  },
  {
   "cell_type": "code",
   "execution_count": 4,
   "metadata": {},
   "outputs": [
    {
     "data": {
      "text/plain": [
       "'Connected: @postgres'"
      ]
     },
     "execution_count": 4,
     "metadata": {},
     "output_type": "execute_result"
    }
   ],
   "source": [
    "%sql postgresql://localhost:5432/postgres"
   ]
  },
  {
   "cell_type": "markdown",
   "metadata": {},
   "source": [
    "Чтобы узнать какая версия установлена у вас, введите в консоле запроса БД (не в командной строке, а в ячейке):"
   ]
  },
  {
   "cell_type": "code",
   "execution_count": 5,
   "metadata": {},
   "outputs": [
    {
     "name": "stdout",
     "output_type": "stream",
     "text": [
      " * postgresql://localhost:5432/postgres\n",
      "1 rows affected.\n"
     ]
    },
    {
     "data": {
      "text/html": [
       "<table>\n",
       "    <thead>\n",
       "        <tr>\n",
       "            <th>version</th>\n",
       "        </tr>\n",
       "    </thead>\n",
       "    <tbody>\n",
       "        <tr>\n",
       "            <td>PostgreSQL 12.6 on x86_64-apple-darwin16.7.0, compiled by Apple LLVM version 8.1.0 (clang-802.0.42), 64-bit</td>\n",
       "        </tr>\n",
       "    </tbody>\n",
       "</table>"
      ],
      "text/plain": [
       "[('PostgreSQL 12.6 on x86_64-apple-darwin16.7.0, compiled by Apple LLVM version 8.1.0 (clang-802.0.42), 64-bit',)]"
      ]
     },
     "execution_count": 5,
     "metadata": {},
     "output_type": "execute_result"
    }
   ],
   "source": [
    "%%sql\n",
    "\n",
    "SELECT version();"
   ]
  },
  {
   "cell_type": "markdown",
   "metadata": {},
   "source": [
    "Вероятнее всего у вас уже создана БД `postgres`. Будем работать с ней. В БД нам нужно создать схему `stepik`, так сказать группировку (семантическую) для нужных нам таблиц. \n",
    "\n",
    "`DROP SCHEMA ... CASCADE` удаляет схему со всеми данными внутри.  \n",
    "`IF NOT EXISTS` означает не делать ничего (только выдать замечание), если схема с таким именем уже существует."
   ]
  },
  {
   "cell_type": "code",
   "execution_count": 6,
   "metadata": {},
   "outputs": [
    {
     "name": "stdout",
     "output_type": "stream",
     "text": [
      " * postgresql://localhost:5432/postgres\n",
      "Done.\n",
      "Done.\n"
     ]
    },
    {
     "data": {
      "text/plain": [
       "[]"
      ]
     },
     "execution_count": 6,
     "metadata": {},
     "output_type": "execute_result"
    }
   ],
   "source": [
    "%%sql\n",
    "DROP SCHEMA IF EXISTS stepik CASCADE;\n",
    "\n",
    "CREATE SCHEMA IF NOT EXISTS stepik;"
   ]
  },
  {
   "cell_type": "markdown",
   "metadata": {},
   "source": [
    "## Памятка о типичных ошибках и способах их исправления\n",
    "\n",
    "1. Приведите синтаксис запроса к общепринятому:\n",
    "    - если у вас есть время, стоит изучить [руководство по стилю SQL](https://www.sqlstyle.guide/ru/);\n",
    "    - можете отформатировать ваш запрос с помощью сторонних [сервисов](https://codebeautify.org/sqlformatter).\n",
    "2. Проверьте, что **ключевые слова**, **названия столбцов** и **значения в ячейках**, которые необходимо найти, написаны правильно. Особенно обратите внимание, чтобы в русских названиях столбцов не было английских букв.\n",
    "3. Проверьте, что:\n",
    "    - количество открывающихся скобок равно количеству закрывающихся;\n",
    "    - запятые разделяют перечисление столбцов, но не ключевые слова;\n",
    "    - запросы разделяются точкой с запятой.\n",
    "4. Последовательность написания команд SQL:\n",
    "```SQL\n",
    "SELECT 'столбцы или * для выбора всех столбцов; обязательно'\n",
    "FROM 'таблица; обязательно'\n",
    "WHERE 'условие/фильтрация, например, city = 'Moscow'; необязательно'\n",
    "GROUP BY 'столбец, по которому хотим сгруппировать данные; необязательно'\n",
    "HAVING 'условие/фильтрация на уровне сгруппированных данных; необязательно'\n",
    "ORDER BY 'столбец, по которому хотим отсортировать вывод; необязательно'\n",
    "```\n",
    "5. Если запрос включает подзапросы, выполните сначала подзапросы и удостоверьтесь, что получаете ожидаемый результат.\n",
    "6. **Важно!** На платформе Stepik используется MySQL, версия 8.0.21.\n",
    "7. Последовательность выполнения команд SQL:\n",
    "<center><img src=\"imgs/sql-order.jpeg\" title=\"SQL order\" width=\"30%\" height=\"30%\"/></center>\n",
    "8. Или другой вариант от [@Ken Flerlage](https://www.flerlagetwins.com/) со сравнением ([источник](https://www.flerlagetwins.com/2018/10/sql-part4.html)):\n",
    "<center><img src=\"imgs/sql-order-operations.png\" title=\"SQL order operations\" width=\"50%\" height=\"50%\"/></center>\n",
    "9. Специфические отличия MySQL от PostgreSQL:\n",
    "\n",
    "[MySQL](https://www.mysqltutorial.org/mysql-having.aspx/): `FROM` => `WHERE` = `SELECT` = `GROUP BY` = `HAVING` = `ORDER BY` = `LIMIT`.   \n",
    "\n",
    "[PostgreSQL](https://www.postgresqltutorial.com/postgresql-having/): `FROM` => `WHERE` = `GROUP BY` = `HAVING` = `SELECT` = `DISTINCT` = `ORDER BY` = `LIMIT`. "
   ]
  },
  {
   "cell_type": "markdown",
   "metadata": {},
   "source": [
    "# **Основные понятия реляционных баз данных**"
   ]
  },
  {
   "cell_type": "markdown",
   "metadata": {},
   "source": [
    "## **1.7 Таблица \"Нарушения ПДД\", запросы корректировки**"
   ]
  },
  {
   "cell_type": "markdown",
   "metadata": {},
   "source": [
    "### Структура и наполнение таблицы\n",
    "\n",
    "В таблице `fine`  представлена информация о начисленных водителям штрафах за нарушения правил дорожного движения (ПДД) (фамилия водителя, номер машины, описание нарушения, сумма штрафа, дата совершения нарушения и дата оплаты штрафа):\n",
    "\n",
    "```mysql\n",
    "CREATE TABLE fine\n",
    "(\n",
    "    fine_id        INT PRIMARY KEY AUTO_INCREMENT,\n",
    "    name           VARCHAR(30),\n",
    "    number_plate   VARCHAR(6),\n",
    "    violation      VARCHAR(30),\n",
    "    sum_fine       DECIMAL(8, 2),\n",
    "    date_violation DATE,\n",
    "    date_payment   DATE\n",
    ");\n",
    "\n",
    "INSERT INTO fine(name,number_plate,violation,sum_fine,date_violation,date_payment)\n",
    "VALUES ('Баранов П.Е.', 'P523BT', 'Превышение скорости(от 40 до 60)', NULL, '2020-02-14 ', NULL),\n",
    "       ('Абрамова К.А.', 'О111AB', 'Проезд на запрещающий сигнал', NULL, '2020-02-23', NULL),\n",
    "       ('Яковлев Г.Р.', 'T330TT', 'Проезд на запрещающий сигнал', NULL, '2020-03-03', NULL),\n",
    "       ('Баранов П.Е.', 'P523BT', 'Превышение скорости(от 40 до 60)', 500.00, '2020-01-12', '2020-01-17'),\n",
    "       ('Абрамова К.А.', 'О111AB', 'Проезд на запрещающий сигнал', 1000.00, '2020-01-14', '2020-02-27'),\n",
    "       ('Яковлев Г.Р.', 'T330TT', 'Превышение скорости(от 20 до 40)', 500.00, '2020-01-23', '2020-02-23'),\n",
    "       ('Яковлев Г.Р.', 'M701AA', 'Превышение скорости(от 20 до 40)', NULL, '2020-01-12', NULL),\n",
    "       ('Колесов С.П.', 'K892AX', 'Превышение скорости(от 20 до 40)', NULL, '2020-02-01', NULL);\n",
    "```\n",
    "\n",
    "В таблицу `traffic_violation` занесены нарушения ПДД и соответствующие штрафы (в рублях): \n",
    "\n",
    "```mysql\n",
    "CREATE TABLE traffic_violation\n",
    "(\n",
    "    violation_id INT PRIMARY KEY AUTO_INCREMENT,\n",
    "    violation    VARCHAR(30),\n",
    "    sum_fine     DECIMAL(8, 2)\n",
    ");\n",
    "\n",
    "INSERT INTO traffic_violation (violation, sum_fine)\n",
    "VALUES ('Превышение скорости(от 20 до 40)', 500),\n",
    "       ('Превышение скорости(от 40 до 60)', 1000),\n",
    "       ('Проезд на запрещающий сигнал', 1000);\n",
    "```\n",
    "\n"
   ]
  },
  {
   "cell_type": "code",
   "execution_count": 7,
   "metadata": {},
   "outputs": [
    {
     "name": "stdout",
     "output_type": "stream",
     "text": [
      " * postgresql://localhost:5432/postgres\n",
      "Done.\n",
      "Done.\n",
      "8 rows affected.\n"
     ]
    },
    {
     "data": {
      "text/plain": [
       "[]"
      ]
     },
     "execution_count": 7,
     "metadata": {},
     "output_type": "execute_result"
    }
   ],
   "source": [
    "%%sql\n",
    "DROP TABLE IF EXISTS stepik.fine CASCADE;\n",
    "\n",
    "CREATE TABLE stepik.fine\n",
    "(\n",
    "    fine_id        INT PRIMARY KEY GENERATED ALWAYS AS identity,\n",
    "    name           TEXT,\n",
    "    number_plate   TEXT,\n",
    "    violation      TEXT,\n",
    "    sum_fine       DECIMAL(8, 2),\n",
    "    date_violation DATE,\n",
    "    date_payment   DATE\n",
    ");\n",
    "\n",
    "INSERT INTO stepik.fine (name, number_plate, violation, sum_fine, date_violation, date_payment)\n",
    "VALUES ('Баранов П.Е.', 'P523BT', 'Превышение скорости(от 40 до 60)', NULL, '2020-02-14 ', NULL),\n",
    "       ('Абрамова К.А.', 'О111AB', 'Проезд на запрещающий сигнал', NULL, '2020-02-23', NULL),\n",
    "       ('Яковлев Г.Р.', 'T330TT', 'Проезд на запрещающий сигнал', NULL, '2020-03-03', NULL),\n",
    "       ('Баранов П.Е.', 'P523BT', 'Превышение скорости(от 40 до 60)', 500.00, '2020-01-12', '2020-01-17'),\n",
    "       ('Абрамова К.А.', 'О111AB', 'Проезд на запрещающий сигнал', 1000.00, '2020-01-14', '2020-02-27'),\n",
    "       ('Яковлев Г.Р.', 'T330TT', 'Превышение скорости(от 20 до 40)', 500.00, '2020-01-23', '2020-02-23'),\n",
    "       ('Яковлев Г.Р.', 'M701AA', 'Превышение скорости(от 20 до 40)', NULL, '2020-01-12', NULL),\n",
    "       ('Колесов С.П.', 'K892AX', 'Превышение скорости(от 20 до 40)', NULL, '2020-02-01', NULL);"
   ]
  },
  {
   "cell_type": "code",
   "execution_count": 8,
   "metadata": {},
   "outputs": [
    {
     "name": "stdout",
     "output_type": "stream",
     "text": [
      " * postgresql://localhost:5432/postgres\n",
      "Done.\n",
      "Done.\n",
      "3 rows affected.\n"
     ]
    },
    {
     "data": {
      "text/plain": [
       "[]"
      ]
     },
     "execution_count": 8,
     "metadata": {},
     "output_type": "execute_result"
    }
   ],
   "source": [
    "%%sql\n",
    "DROP TABLE IF EXISTS stepik.traffic_violation CASCADE;\n",
    "\n",
    "CREATE TABLE stepik.traffic_violation\n",
    "(\n",
    "    violation_id INT PRIMARY KEY GENERATED ALWAYS AS identity,\n",
    "    violation    TEXT,\n",
    "    sum_fine     DECIMAL(8, 2)\n",
    ");\n",
    "\n",
    "INSERT INTO stepik.traffic_violation (violation, sum_fine)\n",
    "VALUES ('Превышение скорости(от 20 до 40)', 500),\n",
    "       ('Превышение скорости(от 40 до 60)', 1000),\n",
    "       ('Проезд на запрещающий сигнал', 1000);"
   ]
  },
  {
   "cell_type": "markdown",
   "metadata": {},
   "source": [
    "### Задание 1\n",
    "\n",
    "Создать таблицу `fine`.\n",
    "\n",
    "Ключевые понятия:\n",
    "- **MySQL**: CREATE TABLE\n",
    "- **PostgreSQL**: CREATE TABLE\n",
    "\n",
    "Создание таблицы для MySQL и PostgreSQL выше."
   ]
  },
  {
   "cell_type": "markdown",
   "metadata": {},
   "source": [
    "### Задание 2\n",
    " \n",
    "В таблицу fine первые 5 строк уже занесены. Добавить в таблицу записи с ключевыми значениями 6, 7, 8.\n",
    "\n",
    "Ключевые понятия:\n",
    "- **MySQL**: INSERT INTO\n",
    "- **PostgreSQL**: INSERT INTO\n",
    "\n",
    "Заполнение таблицы для MySQL и PostgreSQL выше."
   ]
  },
  {
   "cell_type": "markdown",
   "metadata": {},
   "source": [
    "### Использование временного имени таблицы (алиаса)\n",
    "\n",
    "Алиас (Alias) - псевдоним, который можно присваивать столбцам или таблицам для упрощения написания запросов.\n",
    "\n",
    "Варианты использования:\n",
    "- с использованием ключевого слова `AS`:\n",
    "```sql\n",
    "FROM fine AS f, traffic_violation AS tv\n",
    "```\n",
    "- а так же и без него:\n",
    "```sql\n",
    "FROM fine f, traffic_violation tv\n",
    "```\n",
    "\n",
    "После присвоения таблице алиаса, он используется во всех разделах запроса, в котором алиас задан:\n",
    "```sql\n",
    "WHERE f.violation = tv.violation\n",
    "```\n",
    "\n",
    "**Пример**  \n",
    "Для тех, кто уже оплатил штраф, вывести информацию о том, изменялась ли стандартная сумма штрафа.\n",
    "\n",
    "```sql\n",
    "SELECT  f.name, f.number_plate, f.violation, \n",
    "   if(\n",
    "    f.sum_fine = tv.sum_fine, \"Стандартная сумма штрафа\", \n",
    "    if(\n",
    "      f.sum_fine < tv.sum_fine, \"Уменьшенная сумма штрафа\", \"Увеличенная сумма штрафа\"\n",
    "    )\n",
    "  ) AS description               \n",
    "FROM  fine f, traffic_violation tv\n",
    "WHERE tv.violation = f.violation and f.sum_fine IS NOT Null;\n",
    "```"
   ]
  },
  {
   "cell_type": "markdown",
   "metadata": {},
   "source": [
    "### Задание 3\n",
    "\n",
    "Занести в таблицу `fine` суммы штрафов, которые должен оплатить водитель, в соответствии с данными из таблицы `traffic_violation`. При этом суммы заносить только в пустые поля столбца `sum_fine`.\n",
    "\n",
    "Ключевые понятия:\n",
    "- **MySQL**: UPDATE SET WHERE\n",
    "- **PostgreSQL**: UPDATE SET WHERE\n",
    "\n",
    "```sql\n",
    "UPDATE fine AS f, traffic_violation AS tv\n",
    "SET f.sum_fine = tv.sum_fine\n",
    "WHERE f.sum_fine IS NULL AND f.violation = tv.violation;\n",
    "```"
   ]
  },
  {
   "cell_type": "code",
   "execution_count": 9,
   "metadata": {},
   "outputs": [
    {
     "name": "stdout",
     "output_type": "stream",
     "text": [
      " * postgresql://localhost:5432/postgres\n",
      "5 rows affected.\n"
     ]
    },
    {
     "data": {
      "text/plain": [
       "[]"
      ]
     },
     "execution_count": 9,
     "metadata": {},
     "output_type": "execute_result"
    }
   ],
   "source": [
    "%%sql\n",
    "UPDATE stepik.fine AS f\n",
    "SET sum_fine = tv.sum_fine\n",
    "FROM stepik.traffic_violation AS tv\n",
    "WHERE f.sum_fine IS NULL\n",
    "  AND tv.violation = f.violation;"
   ]
  },
  {
   "cell_type": "markdown",
   "metadata": {},
   "source": [
    "### Задание 4\n",
    "\n",
    "Вывести фамилию, номер машины и нарушение только для тех водителей, которые на одной машине нарушили одно и то же правило два и более раз. При этом учитывать все нарушения, независимо от того оплачены они или нет. Информацию отсортировать в алфавитном порядке, сначала по фамилии водителя, потом по номеру машины и, наконец, по нарушению.\n",
    "\n",
    "Ключевые понятия:\n",
    "- **MySQL**: HAVING COUNT\n",
    "- **PostgreSQL**: HAVING COUNT\n",
    "    \n",
    "```sql\n",
    "SELECT name, number_plate, violation\n",
    "FROM fine\n",
    "GROUP BY name, number_plate, name, violation\n",
    "HAVING COUNT(*) >= 2\n",
    "ORDER BY name ASC, number_plate ASC, violation ASC;\n",
    "```"
   ]
  },
  {
   "cell_type": "code",
   "execution_count": 10,
   "metadata": {},
   "outputs": [
    {
     "name": "stdout",
     "output_type": "stream",
     "text": [
      " * postgresql://localhost:5432/postgres\n",
      "2 rows affected.\n"
     ]
    },
    {
     "data": {
      "text/html": [
       "<table>\n",
       "    <thead>\n",
       "        <tr>\n",
       "            <th>name</th>\n",
       "            <th>number_plate</th>\n",
       "            <th>violation</th>\n",
       "        </tr>\n",
       "    </thead>\n",
       "    <tbody>\n",
       "        <tr>\n",
       "            <td>Абрамова К.А.</td>\n",
       "            <td>О111AB</td>\n",
       "            <td>Проезд на запрещающий сигнал</td>\n",
       "        </tr>\n",
       "        <tr>\n",
       "            <td>Баранов П.Е.</td>\n",
       "            <td>P523BT</td>\n",
       "            <td>Превышение скорости(от 40 до 60)</td>\n",
       "        </tr>\n",
       "    </tbody>\n",
       "</table>"
      ],
      "text/plain": [
       "[('Абрамова К.А.', 'О111AB', 'Проезд на запрещающий сигнал'),\n",
       " ('Баранов П.Е.', 'P523BT', 'Превышение скорости(от 40 до 60)')]"
      ]
     },
     "execution_count": 10,
     "metadata": {},
     "output_type": "execute_result"
    }
   ],
   "source": [
    "%%sql\n",
    "SELECT name, number_plate, violation\n",
    "FROM stepik.fine\n",
    "GROUP BY name, number_plate, name, violation\n",
    "HAVING COUNT(*) >= 2\n",
    "ORDER BY name DESC, number_plate DESC, violation DESC;"
   ]
  },
  {
   "cell_type": "markdown",
   "metadata": {},
   "source": [
    "### Задание 5\n",
    "\n",
    "В таблице `fine` увеличить в два раза сумму неоплаченных штрафов для отобранных на предыдущем шаге записей. \n",
    "\n",
    "Ключевые понятия:\n",
    "- **MySQL**: Формирование второй таблицы для условия, сравнение кортежей\n",
    "- **PostgreSQL**: Формирование второй таблицы для условия, сравнение кортежей\n",
    "\n",
    "```sql\n",
    "UPDATE fine AS f, \n",
    "    (SELECT name, number_plate, violation\n",
    "      FROM fine\n",
    "      GROUP BY name, number_plate, name, violation\n",
    "      HAVING COUNT(*) >= 2\n",
    "      ORDER BY name DESC, number_plate DESC, violation DESC) AS r\n",
    "SET sum_fine = f.sum_fine * 2\n",
    "WHERE (f.name, f.number_plate, f.violation) = \n",
    "      (r.name, r.number_plate, r.violation) AND\n",
    "       f.date_payment IS Null;\n",
    "```"
   ]
  },
  {
   "cell_type": "code",
   "execution_count": 11,
   "metadata": {},
   "outputs": [
    {
     "name": "stdout",
     "output_type": "stream",
     "text": [
      " * postgresql://localhost:5432/postgres\n",
      "2 rows affected.\n"
     ]
    },
    {
     "data": {
      "text/plain": [
       "[]"
      ]
     },
     "execution_count": 11,
     "metadata": {},
     "output_type": "execute_result"
    }
   ],
   "source": [
    "%%sql\n",
    "UPDATE stepik.fine AS f\n",
    "SET sum_fine = f.sum_fine * 2\n",
    "FROM (SELECT name, number_plate, violation\n",
    "      FROM stepik.fine\n",
    "      GROUP BY name, number_plate, name, violation\n",
    "      HAVING COUNT(*) >= 2\n",
    "      ORDER BY name DESC, number_plate DESC, violation DESC) AS r\n",
    "WHERE (f.name, f.number_plate, f.violation) =\n",
    "      (r.name, r.number_plate, r.violation)\n",
    "      AND f.date_payment IS Null;"
   ]
  },
  {
   "cell_type": "markdown",
   "metadata": {},
   "source": [
    "### Задание 6\n",
    "\n",
    "Водители оплачивают свои штрафы. В таблице `payment` занесены даты их оплаты.  \n",
    "\n",
    "Так ка в курсе не предлагают создать таблицу `payment`, воспользуемся командой `DESCRIBE payment` и получим описание таблицы:\n",
    "\n",
    "```sql\n",
    "CREATE TABLE payment\n",
    "(\n",
    "    payment_id     INT PRIMARY KEY AUTO_INCREMENT,\n",
    "    name           VARCHAR(30),\n",
    "    number_plate   VARCHAR(6),\n",
    "    violation      VARCHAR(30),\n",
    "    date_violation DATE,\n",
    "    date_payment   DATE\n",
    ");\n",
    "\n",
    "INSERT INTO payment(name, number_plate, violation, date_violation, date_payment)\n",
    "VALUES ('Яковлев Г.Р.', 'M701AA', 'Превышение скорости(от 20 до 40)', '2020-01-12', '2020-01-22'),\n",
    "       ('Баранов П.Е.', 'P523BT', 'Превышение скорости(от 40 до 60)', '2020-02-14', '2020-03-06'),\n",
    "       ('Яковлев Г.Р.', 'T330TT', 'Проезд на запрещающий сигнал', '2020-03-03', '2020-03-23');\n",
    "```\n",
    "\n",
    "Ключевые понятия:\n",
    "- **MySQL**: UPDATE SET, CASE, сравнение кортежей\n",
    "- **PostgreSQL**: UPDATE SET, CASE, сравнение кортежей\n",
    "\n",
    "```sql\n",
    "UPDATE fine AS f, payment AS p\n",
    "SET f.date_payment = p.date_payment,\n",
    "    f.sum_fine     =\n",
    "        CASE\n",
    "            WHEN f.date_payment - f.date_violation <= 20 THEN f.sum_fine / 2\n",
    "            ELSE f.sum_fine\n",
    "            END\n",
    "WHERE (f.name, f.number_plate, f.violation, f.date_violation) = (p.name, p.number_plate, p.violation, p.date_violation)\n",
    "  AND f.date_payment IS NULL;\n",
    "```"
   ]
  },
  {
   "cell_type": "code",
   "execution_count": 12,
   "metadata": {},
   "outputs": [
    {
     "name": "stdout",
     "output_type": "stream",
     "text": [
      " * postgresql://localhost:5432/postgres\n",
      "Done.\n",
      "Done.\n",
      "3 rows affected.\n"
     ]
    },
    {
     "data": {
      "text/plain": [
       "[]"
      ]
     },
     "execution_count": 12,
     "metadata": {},
     "output_type": "execute_result"
    }
   ],
   "source": [
    "%%sql\n",
    "DROP TABLE IF EXISTS stepik.payment CASCADE;\n",
    "\n",
    "CREATE TABLE stepik.payment\n",
    "(\n",
    "    payment_id     INT PRIMARY KEY GENERATED ALWAYS AS identity,\n",
    "    name           TEXT,\n",
    "    number_plate   TEXT,\n",
    "    violation      TEXT,\n",
    "    date_violation DATE,\n",
    "    date_payment   DATE\n",
    ");\n",
    "\n",
    "INSERT INTO stepik.payment(name, number_plate, violation, date_violation, date_payment)\n",
    "VALUES ('Яковлев Г.Р.', 'M701AA', 'Превышение скорости(от 20 до 40)', '2020-01-12', '2020-01-22'),\n",
    "       ('Баранов П.Е.', 'P523BT', 'Превышение скорости(от 40 до 60)', '2020-02-14', '2020-03-06'),\n",
    "       ('Яковлев Г.Р.', 'T330TT', 'Проезд на запрещающий сигнал', '2020-03-03', '2020-03-23');"
   ]
  },
  {
   "cell_type": "code",
   "execution_count": 13,
   "metadata": {},
   "outputs": [
    {
     "name": "stdout",
     "output_type": "stream",
     "text": [
      " * postgresql://localhost:5432/postgres\n",
      "3 rows affected.\n"
     ]
    },
    {
     "data": {
      "text/plain": [
       "[]"
      ]
     },
     "execution_count": 13,
     "metadata": {},
     "output_type": "execute_result"
    }
   ],
   "source": [
    "%%sql\n",
    "UPDATE stepik.fine AS f\n",
    "SET date_payment = p.date_payment,\n",
    "    sum_fine     =\n",
    "        CASE\n",
    "            WHEN f.date_payment - f.date_violation <= 20 THEN f.sum_fine / 2\n",
    "            ELSE f.sum_fine\n",
    "        END\n",
    "FROM stepik.payment AS p\n",
    "WHERE (f.name, f.number_plate, f.violation, f.date_violation) = (p.name, p.number_plate, p.violation, p.date_violation)\n",
    "  AND f.date_payment IS NULL;"
   ]
  },
  {
   "cell_type": "markdown",
   "metadata": {},
   "source": [
    "### Задание 7\n",
    "\n",
    "Создать новую таблицу `back_payment`, куда внести информацию о неоплаченных штрафах (Фамилию и инициалы водителя, номер машины, нарушение, сумму штрафа  и  дату нарушения) из таблицы `fine`.\n",
    "\n",
    "Ключевые понятия:\n",
    "- **MySQL**: CREATE TABLE AS\n",
    "- **PostgreSQL**: CREATE TABLE AS\n",
    "\n",
    "```sql\n",
    "CREATE TABLE IF NOT EXISTS back_payment AS\n",
    "SELECT name, number_plate, violation, sum_fine, date_violation\n",
    "FROM fine\n",
    "WHERE date_payment IS NULL;\n",
    "```"
   ]
  },
  {
   "cell_type": "code",
   "execution_count": 14,
   "metadata": {},
   "outputs": [
    {
     "name": "stdout",
     "output_type": "stream",
     "text": [
      " * postgresql://localhost:5432/postgres\n",
      "Done.\n",
      "2 rows affected.\n"
     ]
    },
    {
     "data": {
      "text/plain": [
       "[]"
      ]
     },
     "execution_count": 14,
     "metadata": {},
     "output_type": "execute_result"
    }
   ],
   "source": [
    "%%sql\n",
    "DROP TABLE IF EXISTS stepik.back_payment CASCADE;\n",
    "\n",
    "CREATE TABLE IF NOT EXISTS stepik.back_payment AS\n",
    "SELECT name, number_plate, violation, sum_fine, date_violation\n",
    "FROM stepik.fine\n",
    "WHERE date_payment IS NULL;"
   ]
  },
  {
   "cell_type": "markdown",
   "metadata": {},
   "source": [
    "### Задание 8\n",
    "\n",
    "Удалить из таблицы `fine` информацию о нарушениях, совершенных раньше 1 февраля 2020 года. \n",
    "\n",
    "Ключевые понятия:\n",
    "- **MySQL**: CREATE TABLE AS\n",
    "- **PostgreSQL**: CREATE TABLE AS\n",
    "\n",
    "```sql\n",
    "\n",
    "```"
   ]
  },
  {
   "cell_type": "code",
   "execution_count": 15,
   "metadata": {},
   "outputs": [
    {
     "name": "stdout",
     "output_type": "stream",
     "text": [
      " * postgresql://localhost:5432/postgres\n",
      "4 rows affected.\n"
     ]
    },
    {
     "data": {
      "text/plain": [
       "[]"
      ]
     },
     "execution_count": 15,
     "metadata": {},
     "output_type": "execute_result"
    }
   ],
   "source": [
    "%%sql\n",
    "DELETE FROM stepik.fine\n",
    "WHERE date_violation < '2020-02-01';"
   ]
  },
  {
   "cell_type": "markdown",
   "metadata": {},
   "source": [
    "### Заключение\n",
    "\n",
    "После прохождения 1 модуля вам станет доступны конспекты курса по [ссылке](https://stepik.org/media/attachments/course/63054/SQL_1.pdf)."
   ]
  }
 ],
 "metadata": {
  "hide_input": false,
  "kernelspec": {
   "display_name": "Python 3",
   "language": "python",
   "name": "python3"
  },
  "language_info": {
   "codemirror_mode": {
    "name": "ipython",
    "version": 3
   },
   "file_extension": ".py",
   "mimetype": "text/x-python",
   "name": "python",
   "nbconvert_exporter": "python",
   "pygments_lexer": "ipython3",
   "version": "3.8.5"
  },
  "toc": {
   "base_numbering": 1,
   "nav_menu": {},
   "number_sections": false,
   "sideBar": true,
   "skip_h1_title": false,
   "title_cell": "Table of Contents",
   "title_sidebar": "Contents",
   "toc_cell": true,
   "toc_position": {
    "height": "calc(100% - 180px)",
    "left": "10px",
    "top": "150px",
    "width": "219px"
   },
   "toc_section_display": true,
   "toc_window_display": true
  },
  "varInspector": {
   "cols": {
    "lenName": 16,
    "lenType": 16,
    "lenVar": 40
   },
   "kernels_config": {
    "python": {
     "delete_cmd_postfix": "",
     "delete_cmd_prefix": "del ",
     "library": "var_list.py",
     "varRefreshCmd": "print(var_dic_list())"
    },
    "r": {
     "delete_cmd_postfix": ") ",
     "delete_cmd_prefix": "rm(",
     "library": "var_list.r",
     "varRefreshCmd": "cat(var_dic_list()) "
    }
   },
   "types_to_exclude": [
    "module",
    "function",
    "builtin_function_or_method",
    "instance",
    "_Feature"
   ],
   "window_display": false
  }
 },
 "nbformat": 4,
 "nbformat_minor": 4
}
