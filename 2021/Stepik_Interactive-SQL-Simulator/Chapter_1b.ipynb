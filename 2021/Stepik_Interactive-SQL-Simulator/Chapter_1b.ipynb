{
 "cells": [
  {
   "cell_type": "markdown",
   "metadata": {},
   "source": [
    "**ИНТЕРАКТИВНЫЙ ТРЕНАЖЕР ПО SQL. ОСНОВЫ РЕЛЯЦИОННОЙ МОДЕЛИ И SQL.**\n",
    "\n",
    "[Курс](https://stepik.org/course/63054/syllabus) на Stepik.\n",
    "\n",
    "Автор: **Озерова Галина Павловна**  \n",
    "<img src=\"imgs/ozerova.JPG\" title=\"Озерова Галина Павловна\" width=\"200\" height=\"200\"/>\n",
    "\n",
    "Конспектировал: **Илья Филимонов** (GiHub: [@IsFilimonov](https://github.com/IsFilimonov))  \n",
    "\n",
    "<img src=\"imgs/IsFilimonov.png\" title=\"Илья Филимонов\" width=\"200\" height=\"200\"/>\n",
    "\n",
    "---"
   ]
  },
  {
   "cell_type": "markdown",
   "metadata": {
    "toc": true
   },
   "source": [
    "<h1>Table of Contents<span class=\"tocSkip\"></span></h1>\n",
    "<div class=\"toc\"><ul class=\"toc-item\"><li><span><a href=\"#Введение\" data-toc-modified-id=\"Введение-1\"><strong>Введение</strong></a></span><ul class=\"toc-item\"><li><span><a href=\"#От-конспектирующего\" data-toc-modified-id=\"От-конспектирующего-1.1\">От конспектирующего</a></span></li><li><span><a href=\"#Памятка-о-типичных-ошибках-и-способах-их-исправления\" data-toc-modified-id=\"Памятка-о-типичных-ошибках-и-способах-их-исправления-1.2\">Памятка о типичных ошибках и способах их исправления</a></span></li></ul></li><li><span><a href=\"#Основные-понятия-реляционных-баз-данных\" data-toc-modified-id=\"Основные-понятия-реляционных-баз-данных-2\"><strong>Основные понятия реляционных баз данных</strong></a></span><ul class=\"toc-item\"><li><span><a href=\"#1.6-Таблица-&quot;Командировки&quot;,-запросы-на-выборку\" data-toc-modified-id=\"1.6-Таблица-&quot;Командировки&quot;,-запросы-на-выборку-2.1\"><strong>1.6 Таблица \"Командировки\", запросы на выборку</strong></a></span><ul class=\"toc-item\"><li><span><a href=\"#Структура-и-наполнение-таблицы\" data-toc-modified-id=\"Структура-и-наполнение-таблицы-2.1.1\">Структура и наполнение таблицы</a></span></li><li><span><a href=\"#Задание-1\" data-toc-modified-id=\"Задание-1-2.1.2\">Задание 1</a></span></li><li><span><a href=\"#Задание-2\" data-toc-modified-id=\"Задание-2-2.1.3\">Задание 2</a></span></li><li><span><a href=\"#Задание-3\" data-toc-modified-id=\"Задание-3-2.1.4\">Задание 3</a></span></li><li><span><a href=\"#Задание-4\" data-toc-modified-id=\"Задание-4-2.1.5\">Задание 4</a></span></li><li><span><a href=\"#Задание-5\" data-toc-modified-id=\"Задание-5-2.1.6\">Задание 5</a></span></li><li><span><a href=\"#Задание-6\" data-toc-modified-id=\"Задание-6-2.1.7\">Задание 6</a></span></li><li><span><a href=\"#Задание-7\" data-toc-modified-id=\"Задание-7-2.1.8\">Задание 7</a></span></li><li><span><a href=\"#Задание-8\" data-toc-modified-id=\"Задание-8-2.1.9\">Задание 8</a></span></li><li><span><a href=\"#Задание-9\" data-toc-modified-id=\"Задание-9-2.1.10\">Задание 9</a></span></li><li><span><a href=\"#Задание-10\" data-toc-modified-id=\"Задание-10-2.1.11\">Задание 10</a></span></li></ul></li></ul></li></ul></div>"
   ]
  },
  {
   "cell_type": "markdown",
   "metadata": {},
   "source": [
    "# **Введение**"
   ]
  },
  {
   "cell_type": "markdown",
   "metadata": {},
   "source": [
    "## От конспектирующего\n",
    "(Не реклама): сам курс использует диалект MySQL, но мне комфортнее использовать PostgreSQL 12.6 ([download](https://www.postgresql.org/download/)).  \n",
    "[Рекомендации](https://wiki.postgresql.org/wiki/Don%27t_Do_This) того, чего не нужно делать в Postgres.\n",
    "\n",
    "Для работы с базой лично я использую IDE [DataGrip](https://www.jetbrains.com/ru-ru/datagrip/) (платная) или [Dbeaver](https://dbeaver.io/) (бесплатная) - под MacOS. \n",
    "\n",
    "Это всё сторонние решения, но можно воспользоваться более [простым способом](https://towardsdatascience.com/heres-how-to-run-sql-in-jupyter-notebooks-f26eb90f3259) - использовать Jupyter Notebook в роли SQL IDE. Для этого нам потребуется установить несколько библиотек. Для работы с Jupyter Notebook я использую платформу [Anaconda](https://www.anaconda.com/), поэтому все нужные библиотеки для работы я буду устанавливать именно в эту среду. Я не буду останавливаться на деталях в вопросе \"как?\", чтобы в деталях не закопаться. В интернете полно подсказок. Главное, должны быть установлены:\n",
    "- `ipython-sql` - [пакет](https://anaconda.org/conda-forge/ipython-sql) для работы с SQL запросами;\n",
    "- `psycopg2` или `psycopg2-binary` - драйвер базы данных Postgres. Там есть нюансы с установкой;\n",
    "- `sqlalchemy` - ORM для работы с SQL БД.\n",
    "\n",
    "\n",
    "Более подробно читайте [статью](https://towardsdatascience.com/heres-how-to-run-sql-in-jupyter-notebooks-f26eb90f3259), которая была выше."
   ]
  },
  {
   "cell_type": "markdown",
   "metadata": {},
   "source": [
    "Для установки соединения с БД мы единожды используем SQL Alchemy."
   ]
  },
  {
   "cell_type": "code",
   "execution_count": 1,
   "metadata": {},
   "outputs": [],
   "source": [
    "import sqlalchemy"
   ]
  },
  {
   "cell_type": "markdown",
   "metadata": {},
   "source": [
    "Далее создаем соединение."
   ]
  },
  {
   "cell_type": "code",
   "execution_count": 2,
   "metadata": {},
   "outputs": [
    {
     "data": {
      "text/plain": [
       "Engine(postgresql://localhost:5432/postgres)"
      ]
     },
     "execution_count": 2,
     "metadata": {},
     "output_type": "execute_result"
    }
   ],
   "source": [
    "sqlalchemy.create_engine(\"postgresql://localhost:5432/postgres\")"
   ]
  },
  {
   "cell_type": "markdown",
   "metadata": {},
   "source": [
    "Загружаем extension."
   ]
  },
  {
   "cell_type": "code",
   "execution_count": 3,
   "metadata": {},
   "outputs": [],
   "source": [
    "%load_ext sql"
   ]
  },
  {
   "cell_type": "markdown",
   "metadata": {},
   "source": [
    "Проверяем соединение."
   ]
  },
  {
   "cell_type": "code",
   "execution_count": 4,
   "metadata": {},
   "outputs": [
    {
     "data": {
      "text/plain": [
       "'Connected: @postgres'"
      ]
     },
     "execution_count": 4,
     "metadata": {},
     "output_type": "execute_result"
    }
   ],
   "source": [
    "%sql postgresql://localhost:5432/postgres"
   ]
  },
  {
   "cell_type": "markdown",
   "metadata": {},
   "source": [
    "Чтобы узнать какая версия установлена у вас, введите в консоле запроса БД (не в командной строке, а в ячейке):"
   ]
  },
  {
   "cell_type": "code",
   "execution_count": 5,
   "metadata": {},
   "outputs": [
    {
     "name": "stdout",
     "output_type": "stream",
     "text": [
      " * postgresql://localhost:5432/postgres\n",
      "1 rows affected.\n"
     ]
    },
    {
     "data": {
      "text/html": [
       "<table>\n",
       "    <thead>\n",
       "        <tr>\n",
       "            <th>version</th>\n",
       "        </tr>\n",
       "    </thead>\n",
       "    <tbody>\n",
       "        <tr>\n",
       "            <td>PostgreSQL 12.6 on x86_64-apple-darwin16.7.0, compiled by Apple LLVM version 8.1.0 (clang-802.0.42), 64-bit</td>\n",
       "        </tr>\n",
       "    </tbody>\n",
       "</table>"
      ],
      "text/plain": [
       "[('PostgreSQL 12.6 on x86_64-apple-darwin16.7.0, compiled by Apple LLVM version 8.1.0 (clang-802.0.42), 64-bit',)]"
      ]
     },
     "execution_count": 5,
     "metadata": {},
     "output_type": "execute_result"
    }
   ],
   "source": [
    "%%sql\n",
    "\n",
    "SELECT version();"
   ]
  },
  {
   "cell_type": "markdown",
   "metadata": {},
   "source": [
    "Вероятнее всего у вас уже создана БД `postgres`. Будем работать с ней. В БД нам нужно создать схему `stepik`, так сказать группировку (семантическую) для нужных нам таблиц. \n",
    "\n",
    "`DROP SCHEMA ... CASCADE` удаляет схему со всеми данными внутри.  \n",
    "`IF NOT EXISTS` означает не делать ничего (только выдать замечание), если схема с таким именем уже существует."
   ]
  },
  {
   "cell_type": "code",
   "execution_count": 6,
   "metadata": {},
   "outputs": [
    {
     "name": "stdout",
     "output_type": "stream",
     "text": [
      " * postgresql://localhost:5432/postgres\n",
      "Done.\n",
      "Done.\n"
     ]
    },
    {
     "data": {
      "text/plain": [
       "[]"
      ]
     },
     "execution_count": 6,
     "metadata": {},
     "output_type": "execute_result"
    }
   ],
   "source": [
    "%%sql\n",
    "DROP SCHEMA IF EXISTS stepik CASCADE;\n",
    "\n",
    "CREATE SCHEMA IF NOT EXISTS stepik;"
   ]
  },
  {
   "cell_type": "markdown",
   "metadata": {},
   "source": [
    "## Памятка о типичных ошибках и способах их исправления\n",
    "\n",
    "1. Приведите синтаксис запроса к общепринятому:\n",
    "    - если у вас есть время, стоит изучить [руководство по стилю SQL](https://www.sqlstyle.guide/ru/);\n",
    "    - можете отформатировать ваш запрос с помощью сторонних [сервисов](https://codebeautify.org/sqlformatter).\n",
    "2. Проверьте, что **ключевые слова**, **названия столбцов** и **значения в ячейках**, которые необходимо найти, написаны правильно. Особенно обратите внимание, чтобы в русских названиях столбцов не было английских букв.\n",
    "3. Проверьте, что:\n",
    "    - количество открывающихся скобок равно количеству закрывающихся;\n",
    "    - запятые разделяют перечисление столбцов, но не ключевые слова;\n",
    "    - запросы разделяются точкой с запятой.\n",
    "4. Последовательность написания команд SQL:\n",
    "```SQL\n",
    "SELECT 'столбцы или * для выбора всех столбцов; обязательно'\n",
    "FROM 'таблица; обязательно'\n",
    "WHERE 'условие/фильтрация, например, city = 'Moscow'; необязательно'\n",
    "GROUP BY 'столбец, по которому хотим сгруппировать данные; необязательно'\n",
    "HAVING 'условие/фильтрация на уровне сгруппированных данных; необязательно'\n",
    "ORDER BY 'столбец, по которому хотим отсортировать вывод; необязательно'\n",
    "```\n",
    "5. Если запрос включает подзапросы, выполните сначала подзапросы и удостоверьтесь, что получаете ожидаемый результат.\n",
    "6. **Важно!** На платформе Stepik используется MySQL, версия 8.0.21.\n",
    "7. Последовательность выполнения команд SQL:\n",
    "<center><img src=\"imgs/sql-order.jpeg\" title=\"SQL order\" width=\"30%\" height=\"30%\"/></center>\n",
    "8. Или другой вариант от [@Ken Flerlage](https://www.flerlagetwins.com/) со сравнением ([источник](https://www.flerlagetwins.com/2018/10/sql-part4.html)):\n",
    "<center><img src=\"imgs/sql-order-operations.png\" title=\"SQL order operations\" width=\"50%\" height=\"50%\"/></center>\n",
    "9. Специфические отличия MySQL от PostgreSQL:\n",
    "\n",
    "[MySQL](https://www.mysqltutorial.org/mysql-having.aspx/): `FROM` => `WHERE` = `SELECT` = `GROUP BY` = `HAVING` = `ORDER BY` = `LIMIT`.   \n",
    "\n",
    "[PostgreSQL](https://www.postgresqltutorial.com/postgresql-having/): `FROM` => `WHERE` = `GROUP BY` = `HAVING` = `SELECT` = `DISTINCT` = `ORDER BY` = `LIMIT`. "
   ]
  },
  {
   "cell_type": "markdown",
   "metadata": {},
   "source": [
    "# **Основные понятия реляционных баз данных**"
   ]
  },
  {
   "cell_type": "markdown",
   "metadata": {},
   "source": [
    "## **1.6 Таблица \"Командировки\", запросы на выборку**"
   ]
  },
  {
   "cell_type": "markdown",
   "metadata": {},
   "source": [
    "### Структура и наполнение таблицы\n",
    "\n",
    "Таблица `trip`, в которой представлена информация о командировках сотрудников некоторой организации (фамилия сотрудника, город, куда он ездил, размер суточных, даты первого и последнего дня командировки):\n",
    "\n",
    "```mysql\n",
    "CREATE TABLE trip\n",
    "(\n",
    "    trip_id    INT PRIMARY KEY AUTO_INCREMENT,\n",
    "    name       VARCHAR(30),\n",
    "    city       VARCHAR(25),\n",
    "    per_diem   DECIMAL(8, 2),\n",
    "    date_first DATE,\n",
    "    date_last  DATE\n",
    ");\n",
    "\n",
    "INSERT INTO trip\n",
    "VALUES (\"1\", \"Баранов П.Е.\", \"Москва\", \"700\", \"2020-01-12\", \"2020-01-17\"),\n",
    "       (\"2\", \"Абрамова К.А.\", \"Владивосток\", \"450\", \"2020-01-14\", \"2020-01-27\"),\n",
    "       (\"3\", \"Семенов И.В.\", \"Москва\", \"700\", \"2020-01-23\", \"2020-01-31\"),\n",
    "       (\"4\", \"Ильиных Г.Р.\", \"Владивосток\", \"450\", \"2020-01-12\", \"2020-02-02\"),\n",
    "       (\"5\", \"Колесов С.П.\", \"Москва\", \"700\", \"2020-02-01\", \"2020-02-06\"),\n",
    "       (\"6\", \"Баранов П.Е.\", \"Москва\", \"700\", \"2020-02-14\", \"2020-02-22\"),\n",
    "       (\"7\", \"Абрамова К.А.\", \"Москва\", \"700\", \"2020-02-23\", \"2020-03-01\"),\n",
    "       (\"8\", \"Лебедев Т.К.\", \"Москва\", \"700\", \"2020-03-03\", \"2020-03-06\"),\n",
    "       (\"9\", \"Колесов С.П.\", \"Новосибирск\", \"450\", \"2020-02-27\", \"2020-03-12\"),\n",
    "       (\"10\", \"Семенов И.В.\", \"Санкт-Петербург\", \"700\", \"2020-03-29\", \"2020-04-05\"),\n",
    "       (\"11\", \"Абрамова К.А.\", \"Москва\", \"700\", \"2020-04-06\", \"2020-04-14\"),\n",
    "       (\"12\", \"Баранов П.Е.\", \"Новосибирск\", \"450\", \"2020-04-18\", \"2020-05-04\"),\n",
    "       (\"13\", \"Лебедев Т.К.\", \"Томск\", \"450\", \"2020-05-20\", \"2020-05-31\"),\n",
    "       (\"14\", \"Семенов И.В.\", \"Санкт-Петербург\", \"700\", \"2020-06-01\", \"2020-06-03\"),\n",
    "       (\"15\", \"Абрамова К.А.\", \"Санкт-Петербург\", \"700\", \"2020-05-28\", \"2020-06-04\"),\n",
    "       (\"16\", \"Федорова А.Ю.\", \"Новосибирск\", \"450\", \"2020-05-25\", \"2020-06-04\"),\n",
    "       (\"17\", \"Колесов С.П.\", \"Новосибирск\", \"450\", \"2020-06-03\", \"2020-06-12\"),\n",
    "       (\"18\", \"Федорова А.Ю.\", \"Томск\", \"450\", \"2020-06-20\", \"2020-06-26\"),\n",
    "       (\"19\", \"Абрамова К.А.\", \"Владивосток\", \"450\", \"2020-07-02\", \"2020-07-13\"),\n",
    "       (\"20\", \"Баранов П.Е.\", \"Воронеж\", \"450\", \"2020-07-19\", \"2020-07-25\");\n",
    "SELECT *\n",
    "FROM trip;\n",
    "```"
   ]
  },
  {
   "cell_type": "code",
   "execution_count": 7,
   "metadata": {},
   "outputs": [
    {
     "name": "stdout",
     "output_type": "stream",
     "text": [
      " * postgresql://localhost:5432/postgres\n",
      "1 rows affected.\n"
     ]
    },
    {
     "data": {
      "text/html": [
       "<table>\n",
       "    <thead>\n",
       "        <tr>\n",
       "            <th>lc_collate</th>\n",
       "        </tr>\n",
       "    </thead>\n",
       "    <tbody>\n",
       "        <tr>\n",
       "            <td>en_US.UTF-8</td>\n",
       "        </tr>\n",
       "    </tbody>\n",
       "</table>"
      ],
      "text/plain": [
       "[('en_US.UTF-8',)]"
      ]
     },
     "execution_count": 7,
     "metadata": {},
     "output_type": "execute_result"
    }
   ],
   "source": [
    "%%sql\n",
    "SHOW LC_COLLATE;"
   ]
  },
  {
   "cell_type": "code",
   "execution_count": 8,
   "metadata": {},
   "outputs": [
    {
     "name": "stdout",
     "output_type": "stream",
     "text": [
      " * postgresql://localhost:5432/postgres\n",
      "1 rows affected.\n"
     ]
    },
    {
     "data": {
      "text/html": [
       "<table>\n",
       "    <thead>\n",
       "        <tr>\n",
       "            <th>lc_ctype</th>\n",
       "        </tr>\n",
       "    </thead>\n",
       "    <tbody>\n",
       "        <tr>\n",
       "            <td>en_US.UTF-8</td>\n",
       "        </tr>\n",
       "    </tbody>\n",
       "</table>"
      ],
      "text/plain": [
       "[('en_US.UTF-8',)]"
      ]
     },
     "execution_count": 8,
     "metadata": {},
     "output_type": "execute_result"
    }
   ],
   "source": [
    "%%sql\n",
    "SHOW LC_CTYPE;"
   ]
  },
  {
   "cell_type": "code",
   "execution_count": 9,
   "metadata": {},
   "outputs": [
    {
     "name": "stdout",
     "output_type": "stream",
     "text": [
      " * postgresql://localhost:5432/postgres\n",
      "Done.\n",
      "Done.\n",
      "20 rows affected.\n"
     ]
    },
    {
     "data": {
      "text/plain": [
       "[]"
      ]
     },
     "execution_count": 9,
     "metadata": {},
     "output_type": "execute_result"
    }
   ],
   "source": [
    "%%sql\n",
    "DROP TABLE IF EXISTS stepik.trip CASCADE;\n",
    "\n",
    "CREATE TABLE stepik.trip\n",
    "(\n",
    "    trip_id    BIGSERIAL,\n",
    "    name       text COLLATE \"C\",\n",
    "    city       text COLLATE \"C\",\n",
    "    per_diem   DECIMAL(8, 2),\n",
    "    date_first DATE,\n",
    "    date_last  DATE\n",
    ");\n",
    "\n",
    "INSERT INTO stepik.trip(name, city, per_diem, date_first, date_last)\n",
    "VALUES ('Баранов П.Е.', 'Москва', '700', '2020-01-12', '2020-01-17'),\n",
    "       ('Абрамова К.А.', 'Владивосток', '450', '2020-01-14', '2020-01-27'),\n",
    "       ('Семенов И.В.', 'Москва', '700', '2020-01-23', '2020-01-31'),\n",
    "       ('Ильиных Г.Р.', 'Владивосток', '450', '2020-01-12', '2020-02-02'),\n",
    "       ('Колесов С.П.', 'Москва', '700', '2020-02-01', '2020-02-06'),\n",
    "       ('Баранов П.Е.', 'Москва', '700', '2020-02-14', '2020-02-22'),\n",
    "       ('Абрамова К.А.', 'Москва', '700', '2020-02-23', '2020-03-01'),\n",
    "       ('Лебедев Т.К.', 'Москва', '700', '2020-03-03', '2020-03-06'),\n",
    "       ('Колесов С.П.', 'Новосибирск', '450', '2020-02-27', '2020-03-12'),\n",
    "       ('Семенов И.В.', 'Санкт-Петербург', '700', '2020-03-29', '2020-04-05'),\n",
    "       ('Абрамова К.А.', 'Москва', '700', '2020-04-06', '2020-04-14'),\n",
    "       ('Баранов П.Е.', 'Новосибирск', '450', '2020-04-18', '2020-05-04'),\n",
    "       ('Лебедев Т.К.', 'Томск', '450', '2020-05-20', '2020-05-31'),\n",
    "       ('Семенов И.В.', 'Санкт-Петербург', '700', '2020-06-01', '2020-06-03'),\n",
    "       ('Абрамова К.А.', 'Санкт-Петербург', '700', '2020-05-28', '2020-06-04'),\n",
    "       ('Федорова А.Ю.', 'Новосибирск', '450', '2020-05-25', '2020-06-04'),\n",
    "       ('Колесов С.П.', 'Новосибирск', '450', '2020-06-03', '2020-06-12'),\n",
    "       ('Федорова А.Ю.', 'Томск', '450', '2020-06-20', '2020-06-26'),\n",
    "       ('Абрамова К.А.', 'Владивосток', '450', '2020-07-02', '2020-07-13'),\n",
    "       ('Баранов П.Е.', 'Воронеж', '450', '2020-07-19', '2020-07-25');"
   ]
  },
  {
   "cell_type": "markdown",
   "metadata": {},
   "source": [
    "### Задание 1\n",
    "\n",
    "Вывести из таблицы `trip` информацию о командировках тех сотрудников, фамилия которых заканчивается на букву «а», в отсортированном по убыванию даты последнего дня командировки виде. В результат включить столбцы `name`, `city`, `per_diem`, `date_first`, `date_last`.\n",
    "\n",
    "Ключевые понятия:\n",
    "- **MySQL**: RIGHT(), SUBSTRING_PART()\n",
    "- **PostgreSQL**: RIGHT(), SPLIT_PART()\n",
    "\n",
    "Вообще, эта задача решается через REGEX и `LIKE`, но для меня более привычное решение это:\n",
    "\n",
    "```mysql\n",
    "SELECT name, city, per_diem, date_first, date_last\n",
    "FROM trip\n",
    "WHERE RIGHT(SUBSTRING_INDEX(name, ' ', 1), 1) = 'а'\n",
    "ORDER BY date_last DESC;\n",
    "```"
   ]
  },
  {
   "cell_type": "code",
   "execution_count": 10,
   "metadata": {},
   "outputs": [
    {
     "name": "stdout",
     "output_type": "stream",
     "text": [
      " * postgresql://localhost:5432/postgres\n",
      "7 rows affected.\n"
     ]
    },
    {
     "data": {
      "text/html": [
       "<table>\n",
       "    <thead>\n",
       "        <tr>\n",
       "            <th>name</th>\n",
       "            <th>city</th>\n",
       "            <th>per_diem</th>\n",
       "            <th>date_first</th>\n",
       "            <th>date_last</th>\n",
       "        </tr>\n",
       "    </thead>\n",
       "    <tbody>\n",
       "        <tr>\n",
       "            <td>Абрамова К.А.</td>\n",
       "            <td>Владивосток</td>\n",
       "            <td>450.00</td>\n",
       "            <td>2020-07-02</td>\n",
       "            <td>2020-07-13</td>\n",
       "        </tr>\n",
       "        <tr>\n",
       "            <td>Федорова А.Ю.</td>\n",
       "            <td>Томск</td>\n",
       "            <td>450.00</td>\n",
       "            <td>2020-06-20</td>\n",
       "            <td>2020-06-26</td>\n",
       "        </tr>\n",
       "        <tr>\n",
       "            <td>Абрамова К.А.</td>\n",
       "            <td>Санкт-Петербург</td>\n",
       "            <td>700.00</td>\n",
       "            <td>2020-05-28</td>\n",
       "            <td>2020-06-04</td>\n",
       "        </tr>\n",
       "        <tr>\n",
       "            <td>Федорова А.Ю.</td>\n",
       "            <td>Новосибирск</td>\n",
       "            <td>450.00</td>\n",
       "            <td>2020-05-25</td>\n",
       "            <td>2020-06-04</td>\n",
       "        </tr>\n",
       "        <tr>\n",
       "            <td>Абрамова К.А.</td>\n",
       "            <td>Москва</td>\n",
       "            <td>700.00</td>\n",
       "            <td>2020-04-06</td>\n",
       "            <td>2020-04-14</td>\n",
       "        </tr>\n",
       "        <tr>\n",
       "            <td>Абрамова К.А.</td>\n",
       "            <td>Москва</td>\n",
       "            <td>700.00</td>\n",
       "            <td>2020-02-23</td>\n",
       "            <td>2020-03-01</td>\n",
       "        </tr>\n",
       "        <tr>\n",
       "            <td>Абрамова К.А.</td>\n",
       "            <td>Владивосток</td>\n",
       "            <td>450.00</td>\n",
       "            <td>2020-01-14</td>\n",
       "            <td>2020-01-27</td>\n",
       "        </tr>\n",
       "    </tbody>\n",
       "</table>"
      ],
      "text/plain": [
       "[('Абрамова К.А.', 'Владивосток', Decimal('450.00'), datetime.date(2020, 7, 2), datetime.date(2020, 7, 13)),\n",
       " ('Федорова А.Ю.', 'Томск', Decimal('450.00'), datetime.date(2020, 6, 20), datetime.date(2020, 6, 26)),\n",
       " ('Абрамова К.А.', 'Санкт-Петербург', Decimal('700.00'), datetime.date(2020, 5, 28), datetime.date(2020, 6, 4)),\n",
       " ('Федорова А.Ю.', 'Новосибирск', Decimal('450.00'), datetime.date(2020, 5, 25), datetime.date(2020, 6, 4)),\n",
       " ('Абрамова К.А.', 'Москва', Decimal('700.00'), datetime.date(2020, 4, 6), datetime.date(2020, 4, 14)),\n",
       " ('Абрамова К.А.', 'Москва', Decimal('700.00'), datetime.date(2020, 2, 23), datetime.date(2020, 3, 1)),\n",
       " ('Абрамова К.А.', 'Владивосток', Decimal('450.00'), datetime.date(2020, 1, 14), datetime.date(2020, 1, 27))]"
      ]
     },
     "execution_count": 10,
     "metadata": {},
     "output_type": "execute_result"
    }
   ],
   "source": [
    "%%sql\n",
    "SELECT name, city, per_diem, date_first, date_last\n",
    "FROM stepik.trip\n",
    "WHERE RIGHT(split_part(name, ' ', 1), 1) = 'а'\n",
    "ORDER BY date_last DESC;"
   ]
  },
  {
   "cell_type": "markdown",
   "metadata": {},
   "source": [
    "### Задание 2\n",
    " \n",
    "Вывести в алфавитном порядке фамилии и инициалы тех сотрудников, которые были в командировке в Москве.\n",
    "\n",
    "Ключевые понятия:\n",
    "- **MySQL**: SELECT DISTINCT, GROUP BY\n",
    "- **PostgreSQL**: SELECT DISTINCT, GROUP BY\n",
    "\n",
    "```mysql\n",
    "SELECT DISTINCT name\n",
    "FROM trip\n",
    "WHERE city = 'Москва'\n",
    "ORDER BY name ASC;\n",
    "```\n"
   ]
  },
  {
   "cell_type": "code",
   "execution_count": 11,
   "metadata": {},
   "outputs": [
    {
     "name": "stdout",
     "output_type": "stream",
     "text": [
      " * postgresql://localhost:5432/postgres\n",
      "5 rows affected.\n"
     ]
    },
    {
     "data": {
      "text/html": [
       "<table>\n",
       "    <thead>\n",
       "        <tr>\n",
       "            <th>name</th>\n",
       "        </tr>\n",
       "    </thead>\n",
       "    <tbody>\n",
       "        <tr>\n",
       "            <td>Абрамова К.А.</td>\n",
       "        </tr>\n",
       "        <tr>\n",
       "            <td>Баранов П.Е.</td>\n",
       "        </tr>\n",
       "        <tr>\n",
       "            <td>Колесов С.П.</td>\n",
       "        </tr>\n",
       "        <tr>\n",
       "            <td>Лебедев Т.К.</td>\n",
       "        </tr>\n",
       "        <tr>\n",
       "            <td>Семенов И.В.</td>\n",
       "        </tr>\n",
       "    </tbody>\n",
       "</table>"
      ],
      "text/plain": [
       "[('Абрамова К.А.',),\n",
       " ('Баранов П.Е.',),\n",
       " ('Колесов С.П.',),\n",
       " ('Лебедев Т.К.',),\n",
       " ('Семенов И.В.',)]"
      ]
     },
     "execution_count": 11,
     "metadata": {},
     "output_type": "execute_result"
    }
   ],
   "source": [
    "%%sql\n",
    "SELECT DISTINCT name\n",
    "FROM stepik.trip\n",
    "WHERE city = 'Москва'\n",
    "ORDER BY name ASC;"
   ]
  },
  {
   "cell_type": "markdown",
   "metadata": {},
   "source": [
    "**Важно!**  \n",
    "Тут стоит отметить такую вещь, как порядок сортировки кириллических букв в PostgreSQL именно на Mac OS (у меня 10.15.5). Использую UTF-8.\n",
    "Как видно из примера выше, значение `Абрамова К.А.` оказалось в самом низу. Такое же поведение с буквами `е` и `ё` и в других случаях тоже. В итоге, сортировка работает некорректно. Это проблема не базы, а окружения. Правила сортировки для локали `ru_RU.UTF-8` в системе просто отсутствуют... Точнее файл LC_COLLATE, в котором должны храниться эти настройки, является символической ссылкой на файл из латинской локали. Более подробно читайте в [блоге](http://chipiga.pp.ua/sql/kak-zastavit-postgresql-pravilno-sortirovat-utf8-kirillitsu-na-mac-os-x/).\n",
    "\n",
    "Чтобы окончательно разобраться, потребуется прилично времени, поэтому не будем останавливаться на этом, ведь это выходит за рамки данного конспекта. Единственное, используем временное решение в момент создания таблицы:\n",
    "```sql\n",
    "    name       text COLLATE \"ru_RU\",\n",
    "    city       text COLLATE \"ru_RU\",\n",
    "```\n",
    "Таким образом мы решаем проблему с сортировкой букв, правда кроме буквы `ё`.\n",
    " "
   ]
  },
  {
   "cell_type": "markdown",
   "metadata": {},
   "source": [
    "### Задание 3\n",
    "\n",
    "Для каждого города посчитать, сколько раз сотрудники в нем были.  Информацию вывести в отсортированном в алфавитном порядке по названию городов. Вычисляемый столбец назвать `Количество`. \n",
    "\n",
    "Ключевые понятия:\n",
    "- **MySQL**: count(), GROUP BY\n",
    "- **PostgreSQL**: count(), GROUP BY\n",
    "\n",
    "```sql\n",
    "SELECT city, count(trip_id) AS Количество\n",
    "FROM trip\n",
    "GROUP BY city\n",
    "ORDER BY city ASC;\n",
    "```"
   ]
  },
  {
   "cell_type": "code",
   "execution_count": 12,
   "metadata": {},
   "outputs": [
    {
     "name": "stdout",
     "output_type": "stream",
     "text": [
      " * postgresql://localhost:5432/postgres\n",
      "6 rows affected.\n"
     ]
    },
    {
     "data": {
      "text/html": [
       "<table>\n",
       "    <thead>\n",
       "        <tr>\n",
       "            <th>city</th>\n",
       "            <th>Количество</th>\n",
       "        </tr>\n",
       "    </thead>\n",
       "    <tbody>\n",
       "        <tr>\n",
       "            <td>Владивосток</td>\n",
       "            <td>3</td>\n",
       "        </tr>\n",
       "        <tr>\n",
       "            <td>Воронеж</td>\n",
       "            <td>1</td>\n",
       "        </tr>\n",
       "        <tr>\n",
       "            <td>Москва</td>\n",
       "            <td>7</td>\n",
       "        </tr>\n",
       "        <tr>\n",
       "            <td>Новосибирск</td>\n",
       "            <td>4</td>\n",
       "        </tr>\n",
       "        <tr>\n",
       "            <td>Санкт-Петербург</td>\n",
       "            <td>3</td>\n",
       "        </tr>\n",
       "        <tr>\n",
       "            <td>Томск</td>\n",
       "            <td>2</td>\n",
       "        </tr>\n",
       "    </tbody>\n",
       "</table>"
      ],
      "text/plain": [
       "[('Владивосток', 3),\n",
       " ('Воронеж', 1),\n",
       " ('Москва', 7),\n",
       " ('Новосибирск', 4),\n",
       " ('Санкт-Петербург', 3),\n",
       " ('Томск', 2)]"
      ]
     },
     "execution_count": 12,
     "metadata": {},
     "output_type": "execute_result"
    }
   ],
   "source": [
    "%%sql\n",
    "SELECT city, count(trip_id) AS Количество\n",
    "FROM stepik.trip\n",
    "GROUP BY city\n",
    "ORDER BY city ASC;"
   ]
  },
  {
   "cell_type": "markdown",
   "metadata": {},
   "source": [
    "### Задание 4\n",
    "\n",
    "Вывести два города, в которых чаще всего были в командировках сотрудники. Вычисляемый столбец назвать `Количество`.\n",
    "\n",
    "Ключевые понятия:\n",
    "- **MySQL**: LIMIT\n",
    "- **PostgreSQL**: LIMIT\n",
    "    \n",
    "```sql\n",
    "SELECT city, count(trip_id) AS Количество\n",
    "FROM trip\n",
    "GROUP BY city\n",
    "ORDER BY Количество DESC\n",
    "LIMIT 2;\n",
    "```"
   ]
  },
  {
   "cell_type": "code",
   "execution_count": 13,
   "metadata": {},
   "outputs": [
    {
     "name": "stdout",
     "output_type": "stream",
     "text": [
      " * postgresql://localhost:5432/postgres\n",
      "2 rows affected.\n"
     ]
    },
    {
     "data": {
      "text/html": [
       "<table>\n",
       "    <thead>\n",
       "        <tr>\n",
       "            <th>city</th>\n",
       "            <th>Количество</th>\n",
       "        </tr>\n",
       "    </thead>\n",
       "    <tbody>\n",
       "        <tr>\n",
       "            <td>Москва</td>\n",
       "            <td>7</td>\n",
       "        </tr>\n",
       "        <tr>\n",
       "            <td>Новосибирск</td>\n",
       "            <td>4</td>\n",
       "        </tr>\n",
       "    </tbody>\n",
       "</table>"
      ],
      "text/plain": [
       "[('Москва', 7), ('Новосибирск', 4)]"
      ]
     },
     "execution_count": 13,
     "metadata": {},
     "output_type": "execute_result"
    }
   ],
   "source": [
    "%%sql\n",
    "SELECT city, count(trip_id) AS Количество\n",
    "FROM stepik.trip\n",
    "GROUP BY city\n",
    "ORDER BY Количество DESC\n",
    "LIMIT 2;"
   ]
  },
  {
   "cell_type": "markdown",
   "metadata": {},
   "source": [
    "### Задание 5\n",
    "\n",
    "Вывести информацию о командировках во все города кроме Москвы и Санкт-Петербурга (фамилии и инициалы сотрудников, город ,  длительность командировки в днях, при этом первый и последний день относится к периоду командировки). Информацию вывести в упорядоченном по убыванию длительности поездки, а потом по убыванию названий городов (в обратном алфавитном порядке).\n",
    "\n",
    "Ключевые понятия:\n",
    "- **MySQL**: datediff(), NOT IN\n",
    "- **PostgreSQL**: вычитание дат, NOT IN\n",
    "\n",
    "```sql\n",
    "SELECT name, city, DATEDIFF(date_last, date_first) + 1 AS Длительность\n",
    "FROM trip\n",
    "WHERE city NOT IN ('Москва', 'Санкт-Петербург')\n",
    "ORDER BY Длительность DESC, city DESC;\n",
    "```"
   ]
  },
  {
   "cell_type": "code",
   "execution_count": 14,
   "metadata": {},
   "outputs": [
    {
     "name": "stdout",
     "output_type": "stream",
     "text": [
      " * postgresql://localhost:5432/postgres\n",
      "10 rows affected.\n"
     ]
    },
    {
     "data": {
      "text/html": [
       "<table>\n",
       "    <thead>\n",
       "        <tr>\n",
       "            <th>name</th>\n",
       "            <th>city</th>\n",
       "            <th>Длительность</th>\n",
       "        </tr>\n",
       "    </thead>\n",
       "    <tbody>\n",
       "        <tr>\n",
       "            <td>Ильиных Г.Р.</td>\n",
       "            <td>Владивосток</td>\n",
       "            <td>22</td>\n",
       "        </tr>\n",
       "        <tr>\n",
       "            <td>Баранов П.Е.</td>\n",
       "            <td>Новосибирск</td>\n",
       "            <td>17</td>\n",
       "        </tr>\n",
       "        <tr>\n",
       "            <td>Колесов С.П.</td>\n",
       "            <td>Новосибирск</td>\n",
       "            <td>15</td>\n",
       "        </tr>\n",
       "        <tr>\n",
       "            <td>Абрамова К.А.</td>\n",
       "            <td>Владивосток</td>\n",
       "            <td>14</td>\n",
       "        </tr>\n",
       "        <tr>\n",
       "            <td>Лебедев Т.К.</td>\n",
       "            <td>Томск</td>\n",
       "            <td>12</td>\n",
       "        </tr>\n",
       "        <tr>\n",
       "            <td>Абрамова К.А.</td>\n",
       "            <td>Владивосток</td>\n",
       "            <td>12</td>\n",
       "        </tr>\n",
       "        <tr>\n",
       "            <td>Федорова А.Ю.</td>\n",
       "            <td>Новосибирск</td>\n",
       "            <td>11</td>\n",
       "        </tr>\n",
       "        <tr>\n",
       "            <td>Колесов С.П.</td>\n",
       "            <td>Новосибирск</td>\n",
       "            <td>10</td>\n",
       "        </tr>\n",
       "        <tr>\n",
       "            <td>Федорова А.Ю.</td>\n",
       "            <td>Томск</td>\n",
       "            <td>7</td>\n",
       "        </tr>\n",
       "        <tr>\n",
       "            <td>Баранов П.Е.</td>\n",
       "            <td>Воронеж</td>\n",
       "            <td>7</td>\n",
       "        </tr>\n",
       "    </tbody>\n",
       "</table>"
      ],
      "text/plain": [
       "[('Ильиных Г.Р.', 'Владивосток', 22),\n",
       " ('Баранов П.Е.', 'Новосибирск', 17),\n",
       " ('Колесов С.П.', 'Новосибирск', 15),\n",
       " ('Абрамова К.А.', 'Владивосток', 14),\n",
       " ('Лебедев Т.К.', 'Томск', 12),\n",
       " ('Абрамова К.А.', 'Владивосток', 12),\n",
       " ('Федорова А.Ю.', 'Новосибирск', 11),\n",
       " ('Колесов С.П.', 'Новосибирск', 10),\n",
       " ('Федорова А.Ю.', 'Томск', 7),\n",
       " ('Баранов П.Е.', 'Воронеж', 7)]"
      ]
     },
     "execution_count": 14,
     "metadata": {},
     "output_type": "execute_result"
    }
   ],
   "source": [
    "%%sql\n",
    "SELECT name, city, date_last - date_first + 1 AS Длительность\n",
    "FROM stepik.trip\n",
    "WHERE city NOT IN ('Москва', 'Санкт-Петербург')\n",
    "ORDER BY 3 DESC,\n",
    "         1 DESC;"
   ]
  },
  {
   "cell_type": "markdown",
   "metadata": {},
   "source": [
    "### Задание 6\n",
    "\n",
    "Вывести информацию о командировках сотрудника(ов), которые были самыми короткими по времени.\n",
    "\n",
    "Ключевые понятия:\n",
    "- **MySQL**: datediff(), min(), вложенный запрос\n",
    "- **PostgreSQL**: вычитание дат, min(), вложенный запрос\n",
    "\n",
    "```sql\n",
    "SELECT name, city, date_first, date_last\n",
    "FROM trip\n",
    "WHERE datediff(date_last, date_first) = (SELECT MIN(datediff(date_last, date_first))\n",
    "                                         FROM trip);\n",
    "```"
   ]
  },
  {
   "cell_type": "code",
   "execution_count": 15,
   "metadata": {},
   "outputs": [
    {
     "name": "stdout",
     "output_type": "stream",
     "text": [
      " * postgresql://localhost:5432/postgres\n",
      "1 rows affected.\n"
     ]
    },
    {
     "data": {
      "text/html": [
       "<table>\n",
       "    <thead>\n",
       "        <tr>\n",
       "            <th>name</th>\n",
       "            <th>city</th>\n",
       "            <th>date_first</th>\n",
       "            <th>date_last</th>\n",
       "        </tr>\n",
       "    </thead>\n",
       "    <tbody>\n",
       "        <tr>\n",
       "            <td>Семенов И.В.</td>\n",
       "            <td>Санкт-Петербург</td>\n",
       "            <td>2020-06-01</td>\n",
       "            <td>2020-06-03</td>\n",
       "        </tr>\n",
       "    </tbody>\n",
       "</table>"
      ],
      "text/plain": [
       "[('Семенов И.В.', 'Санкт-Петербург', datetime.date(2020, 6, 1), datetime.date(2020, 6, 3))]"
      ]
     },
     "execution_count": 15,
     "metadata": {},
     "output_type": "execute_result"
    }
   ],
   "source": [
    "%%sql\n",
    "SELECT name, city, date_first, date_last\n",
    "FROM stepik.trip\n",
    "WHERE (date_last - date_first) = (SELECT min(date_last - date_first)\n",
    "                                  FROM stepik.trip);"
   ]
  },
  {
   "cell_type": "markdown",
   "metadata": {},
   "source": [
    "### Задание 7\n",
    "\n",
    "Вывести информацию о командировках, начало и конец которых относятся к одному месяцу (год может быть любой). Результат отсортировать сначала  в алфавитном порядке по названию города, а затем по фамилии сотрудника.\n",
    "\n",
    "Ключевые понятия:\n",
    "- **MySQL**: month()\n",
    "- **PostgreSQL**: extract(month from date)\n",
    "\n",
    "```sql\n",
    "SELECT name, city, date_first, date_last\n",
    "FROM trip\n",
    "WHERE MONTH(date_first) = MONTH(date_last)\n",
    "ORDER BY 2 ASC, 1 ASC;\n",
    "```"
   ]
  },
  {
   "cell_type": "code",
   "execution_count": 16,
   "metadata": {},
   "outputs": [
    {
     "name": "stdout",
     "output_type": "stream",
     "text": [
      " * postgresql://localhost:5432/postgres\n",
      "13 rows affected.\n"
     ]
    },
    {
     "data": {
      "text/html": [
       "<table>\n",
       "    <thead>\n",
       "        <tr>\n",
       "            <th>name</th>\n",
       "            <th>city</th>\n",
       "            <th>date_first</th>\n",
       "            <th>date_last</th>\n",
       "        </tr>\n",
       "    </thead>\n",
       "    <tbody>\n",
       "        <tr>\n",
       "            <td>Абрамова К.А.</td>\n",
       "            <td>Владивосток</td>\n",
       "            <td>2020-07-02</td>\n",
       "            <td>2020-07-13</td>\n",
       "        </tr>\n",
       "        <tr>\n",
       "            <td>Абрамова К.А.</td>\n",
       "            <td>Владивосток</td>\n",
       "            <td>2020-01-14</td>\n",
       "            <td>2020-01-27</td>\n",
       "        </tr>\n",
       "        <tr>\n",
       "            <td>Баранов П.Е.</td>\n",
       "            <td>Воронеж</td>\n",
       "            <td>2020-07-19</td>\n",
       "            <td>2020-07-25</td>\n",
       "        </tr>\n",
       "        <tr>\n",
       "            <td>Абрамова К.А.</td>\n",
       "            <td>Москва</td>\n",
       "            <td>2020-04-06</td>\n",
       "            <td>2020-04-14</td>\n",
       "        </tr>\n",
       "        <tr>\n",
       "            <td>Баранов П.Е.</td>\n",
       "            <td>Москва</td>\n",
       "            <td>2020-01-12</td>\n",
       "            <td>2020-01-17</td>\n",
       "        </tr>\n",
       "        <tr>\n",
       "            <td>Баранов П.Е.</td>\n",
       "            <td>Москва</td>\n",
       "            <td>2020-02-14</td>\n",
       "            <td>2020-02-22</td>\n",
       "        </tr>\n",
       "        <tr>\n",
       "            <td>Колесов С.П.</td>\n",
       "            <td>Москва</td>\n",
       "            <td>2020-02-01</td>\n",
       "            <td>2020-02-06</td>\n",
       "        </tr>\n",
       "        <tr>\n",
       "            <td>Лебедев Т.К.</td>\n",
       "            <td>Москва</td>\n",
       "            <td>2020-03-03</td>\n",
       "            <td>2020-03-06</td>\n",
       "        </tr>\n",
       "        <tr>\n",
       "            <td>Семенов И.В.</td>\n",
       "            <td>Москва</td>\n",
       "            <td>2020-01-23</td>\n",
       "            <td>2020-01-31</td>\n",
       "        </tr>\n",
       "        <tr>\n",
       "            <td>Колесов С.П.</td>\n",
       "            <td>Новосибирск</td>\n",
       "            <td>2020-06-03</td>\n",
       "            <td>2020-06-12</td>\n",
       "        </tr>\n",
       "        <tr>\n",
       "            <td>Семенов И.В.</td>\n",
       "            <td>Санкт-Петербург</td>\n",
       "            <td>2020-06-01</td>\n",
       "            <td>2020-06-03</td>\n",
       "        </tr>\n",
       "        <tr>\n",
       "            <td>Лебедев Т.К.</td>\n",
       "            <td>Томск</td>\n",
       "            <td>2020-05-20</td>\n",
       "            <td>2020-05-31</td>\n",
       "        </tr>\n",
       "        <tr>\n",
       "            <td>Федорова А.Ю.</td>\n",
       "            <td>Томск</td>\n",
       "            <td>2020-06-20</td>\n",
       "            <td>2020-06-26</td>\n",
       "        </tr>\n",
       "    </tbody>\n",
       "</table>"
      ],
      "text/plain": [
       "[('Абрамова К.А.', 'Владивосток', datetime.date(2020, 7, 2), datetime.date(2020, 7, 13)),\n",
       " ('Абрамова К.А.', 'Владивосток', datetime.date(2020, 1, 14), datetime.date(2020, 1, 27)),\n",
       " ('Баранов П.Е.', 'Воронеж', datetime.date(2020, 7, 19), datetime.date(2020, 7, 25)),\n",
       " ('Абрамова К.А.', 'Москва', datetime.date(2020, 4, 6), datetime.date(2020, 4, 14)),\n",
       " ('Баранов П.Е.', 'Москва', datetime.date(2020, 1, 12), datetime.date(2020, 1, 17)),\n",
       " ('Баранов П.Е.', 'Москва', datetime.date(2020, 2, 14), datetime.date(2020, 2, 22)),\n",
       " ('Колесов С.П.', 'Москва', datetime.date(2020, 2, 1), datetime.date(2020, 2, 6)),\n",
       " ('Лебедев Т.К.', 'Москва', datetime.date(2020, 3, 3), datetime.date(2020, 3, 6)),\n",
       " ('Семенов И.В.', 'Москва', datetime.date(2020, 1, 23), datetime.date(2020, 1, 31)),\n",
       " ('Колесов С.П.', 'Новосибирск', datetime.date(2020, 6, 3), datetime.date(2020, 6, 12)),\n",
       " ('Семенов И.В.', 'Санкт-Петербург', datetime.date(2020, 6, 1), datetime.date(2020, 6, 3)),\n",
       " ('Лебедев Т.К.', 'Томск', datetime.date(2020, 5, 20), datetime.date(2020, 5, 31)),\n",
       " ('Федорова А.Ю.', 'Томск', datetime.date(2020, 6, 20), datetime.date(2020, 6, 26))]"
      ]
     },
     "execution_count": 16,
     "metadata": {},
     "output_type": "execute_result"
    }
   ],
   "source": [
    "%%sql\n",
    "SELECT name, city, date_first, date_last\n",
    "FROM stepik.trip\n",
    "WHERE extract(month from date_first) = extract(month from date_last)\n",
    "ORDER BY 2 ASC, 1 ASC;"
   ]
  },
  {
   "cell_type": "markdown",
   "metadata": {},
   "source": [
    "### Задание 8\n",
    "\n",
    "Вывести название месяца и количество командировок для каждого месяца. Считаем, что командировка относится к некоторому месяцу, если она началась в этом месяце. Информацию вывести сначала в отсортированном по убыванию количества, а потом в алфавитном порядке по названию месяца виде. Название столбцов – Месяц и Количество.\n",
    "\n",
    "Ключевые понятия:\n",
    "- **MySQL**: monthname(date)\n",
    "- **PostgreSQL**: to_char(date, 'Month')\n",
    "\n",
    "```sql\n",
    "SELECT monthname(date_first) AS Месяц,\n",
    "       count(trip_id)    AS Количество\n",
    "FROM trip\n",
    "GROUP BY monthname(date_first)\n",
    "ORDER BY Количество DESC,\n",
    "         Месяц ASC;\n",
    "```"
   ]
  },
  {
   "cell_type": "code",
   "execution_count": 17,
   "metadata": {},
   "outputs": [
    {
     "name": "stdout",
     "output_type": "stream",
     "text": [
      " * postgresql://localhost:5432/postgres\n",
      "7 rows affected.\n"
     ]
    },
    {
     "data": {
      "text/html": [
       "<table>\n",
       "    <thead>\n",
       "        <tr>\n",
       "            <th>месяц</th>\n",
       "            <th>количество</th>\n",
       "        </tr>\n",
       "    </thead>\n",
       "    <tbody>\n",
       "        <tr>\n",
       "            <td>February </td>\n",
       "            <td>4</td>\n",
       "        </tr>\n",
       "        <tr>\n",
       "            <td>January  </td>\n",
       "            <td>4</td>\n",
       "        </tr>\n",
       "        <tr>\n",
       "            <td>June     </td>\n",
       "            <td>3</td>\n",
       "        </tr>\n",
       "        <tr>\n",
       "            <td>May      </td>\n",
       "            <td>3</td>\n",
       "        </tr>\n",
       "        <tr>\n",
       "            <td>April    </td>\n",
       "            <td>2</td>\n",
       "        </tr>\n",
       "        <tr>\n",
       "            <td>July     </td>\n",
       "            <td>2</td>\n",
       "        </tr>\n",
       "        <tr>\n",
       "            <td>March    </td>\n",
       "            <td>2</td>\n",
       "        </tr>\n",
       "    </tbody>\n",
       "</table>"
      ],
      "text/plain": [
       "[('February ', 4),\n",
       " ('January  ', 4),\n",
       " ('June     ', 3),\n",
       " ('May      ', 3),\n",
       " ('April    ', 2),\n",
       " ('July     ', 2),\n",
       " ('March    ', 2)]"
      ]
     },
     "execution_count": 17,
     "metadata": {},
     "output_type": "execute_result"
    }
   ],
   "source": [
    "%%sql\n",
    "SELECT to_char(date_first, 'Month') AS месяц,\n",
    "       count(trip_id)               AS количество\n",
    "FROM stepik.trip\n",
    "GROUP BY to_char(date_first, 'Month')\n",
    "ORDER BY количество DESC,\n",
    "         месяц ASC;"
   ]
  },
  {
   "cell_type": "markdown",
   "metadata": {},
   "source": [
    "### Задание 9\n",
    "\n",
    "Вывести сумму суточных (произведение количества дней командировки и размера суточных) для командировок, первый день которых пришелся на февраль или март 2020 года. Значение суточных для каждой командировки занесено в столбец  `per_diem`. Информацию отсортировать сначала  в алфавитном порядке по фамилиям сотрудников, а затем по убыванию суммы суточных.\n",
    "\n",
    "Ключевые понятия:\n",
    "- **MySQL**: datediff(), BETWEEN\n",
    "- **PostgreSQL**: daterange, оператор приведения к типу `::` или же CAST(), вхождение множества `@>` \n",
    "\n",
    "```sql\n",
    "SELECT name,\n",
    "       city,\n",
    "       date_first,\n",
    "       (DATEDIFF(date_last, date_first) + 1) * per_diem AS Сумма\n",
    "FROM trip\n",
    "WHERE date_first BETWEEN '2020-02-01' AND '2020-03-31'\n",
    "ORDER BY name ASC,\n",
    "         Сумма DESC;\n",
    "```\n",
    "\n",
    "Данную задачу можно решить несколькими способами:\n",
    "- `WHERE date_first >= '2020-02-01' AND date_first <= '2020-03-31'`\n",
    "- `WHERE date_first BETWEEN '2020-02-01' AND '2020-03-31'`\n",
    "- В Postgres воспользоваться daterange. См пример ниже."
   ]
  },
  {
   "cell_type": "code",
   "execution_count": 18,
   "metadata": {},
   "outputs": [
    {
     "name": "stdout",
     "output_type": "stream",
     "text": [
      " * postgresql://localhost:5432/postgres\n",
      "6 rows affected.\n"
     ]
    },
    {
     "data": {
      "text/html": [
       "<table>\n",
       "    <thead>\n",
       "        <tr>\n",
       "            <th>name</th>\n",
       "            <th>city</th>\n",
       "            <th>date_first</th>\n",
       "            <th>Сумма</th>\n",
       "        </tr>\n",
       "    </thead>\n",
       "    <tbody>\n",
       "        <tr>\n",
       "            <td>Абрамова К.А.</td>\n",
       "            <td>Москва</td>\n",
       "            <td>2020-02-23</td>\n",
       "            <td>5600.00</td>\n",
       "        </tr>\n",
       "        <tr>\n",
       "            <td>Баранов П.Е.</td>\n",
       "            <td>Москва</td>\n",
       "            <td>2020-02-14</td>\n",
       "            <td>6300.00</td>\n",
       "        </tr>\n",
       "        <tr>\n",
       "            <td>Колесов С.П.</td>\n",
       "            <td>Новосибирск</td>\n",
       "            <td>2020-02-27</td>\n",
       "            <td>6750.00</td>\n",
       "        </tr>\n",
       "        <tr>\n",
       "            <td>Колесов С.П.</td>\n",
       "            <td>Москва</td>\n",
       "            <td>2020-02-01</td>\n",
       "            <td>4200.00</td>\n",
       "        </tr>\n",
       "        <tr>\n",
       "            <td>Лебедев Т.К.</td>\n",
       "            <td>Москва</td>\n",
       "            <td>2020-03-03</td>\n",
       "            <td>2800.00</td>\n",
       "        </tr>\n",
       "        <tr>\n",
       "            <td>Семенов И.В.</td>\n",
       "            <td>Санкт-Петербург</td>\n",
       "            <td>2020-03-29</td>\n",
       "            <td>5600.00</td>\n",
       "        </tr>\n",
       "    </tbody>\n",
       "</table>"
      ],
      "text/plain": [
       "[('Абрамова К.А.', 'Москва', datetime.date(2020, 2, 23), Decimal('5600.00')),\n",
       " ('Баранов П.Е.', 'Москва', datetime.date(2020, 2, 14), Decimal('6300.00')),\n",
       " ('Колесов С.П.', 'Новосибирск', datetime.date(2020, 2, 27), Decimal('6750.00')),\n",
       " ('Колесов С.П.', 'Москва', datetime.date(2020, 2, 1), Decimal('4200.00')),\n",
       " ('Лебедев Т.К.', 'Москва', datetime.date(2020, 3, 3), Decimal('2800.00')),\n",
       " ('Семенов И.В.', 'Санкт-Петербург', datetime.date(2020, 3, 29), Decimal('5600.00'))]"
      ]
     },
     "execution_count": 18,
     "metadata": {},
     "output_type": "execute_result"
    }
   ],
   "source": [
    "%%sql\n",
    "SELECT name,\n",
    "       city,\n",
    "       date_first,\n",
    "       ((date_last - date_first) + 1) * per_diem AS Сумма\n",
    "FROM stepik.trip\n",
    "WHERE '[2020-02-01, 2020-03-31]'::daterange @> date_first\n",
    "ORDER BY name ASC,\n",
    "         Сумма DESC;"
   ]
  },
  {
   "cell_type": "markdown",
   "metadata": {},
   "source": [
    "### Задание 10\n",
    "\n",
    "Вывести фамилию с инициалами и общую сумму суточных, полученных за все командировки для тех сотрудников, которые были в командировках больше чем 3 раза, в отсортированном по убыванию сумм суточных виде. Только для этого задания изменена строка таблицы `trip`:\n",
    "\n",
    "`4\tИльиных Г.Р.\tВладивосток\t450\t2020-01-12\t2020-03-02`\n",
    "\n",
    "Ключевые понятия:\n",
    "- **MySQL**: \n",
    "- **PostgreSQL**: \n",
    "\n",
    "```sql\n",
    "SELECT name,\n",
    "       sum((datediff(date_last, date_first) + 1) * per_diem) AS Сумма\n",
    "FROM trip\n",
    "GROUP BY name\n",
    "HAVING count(name) > 3\n",
    "ORDER BY Сумма DESC;\n",
    "```"
   ]
  },
  {
   "cell_type": "code",
   "execution_count": 19,
   "metadata": {},
   "outputs": [
    {
     "name": "stdout",
     "output_type": "stream",
     "text": [
      " * postgresql://localhost:5432/postgres\n",
      "1 rows affected.\n"
     ]
    },
    {
     "data": {
      "text/plain": [
       "[]"
      ]
     },
     "execution_count": 19,
     "metadata": {},
     "output_type": "execute_result"
    }
   ],
   "source": [
    "%%sql\n",
    "UPDATE stepik.trip\n",
    "SET date_last = '2020-03-02' --old value: '2020-03-02'\n",
    "WHERE trip_id = 4;"
   ]
  },
  {
   "cell_type": "code",
   "execution_count": 20,
   "metadata": {},
   "outputs": [
    {
     "name": "stdout",
     "output_type": "stream",
     "text": [
      " * postgresql://localhost:5432/postgres\n",
      "2 rows affected.\n"
     ]
    },
    {
     "data": {
      "text/html": [
       "<table>\n",
       "    <thead>\n",
       "        <tr>\n",
       "            <th>name</th>\n",
       "            <th>сумма</th>\n",
       "        </tr>\n",
       "    </thead>\n",
       "    <tbody>\n",
       "        <tr>\n",
       "            <td>Абрамова К.А.</td>\n",
       "            <td>29200.00</td>\n",
       "        </tr>\n",
       "        <tr>\n",
       "            <td>Баранов П.Е.</td>\n",
       "            <td>21300.00</td>\n",
       "        </tr>\n",
       "    </tbody>\n",
       "</table>"
      ],
      "text/plain": [
       "[('Абрамова К.А.', Decimal('29200.00')), ('Баранов П.Е.', Decimal('21300.00'))]"
      ]
     },
     "execution_count": 20,
     "metadata": {},
     "output_type": "execute_result"
    }
   ],
   "source": [
    "%%sql\n",
    "SELECT name,\n",
    "       SUM(((date_last - trip.date_first) + 1) * per_diem) AS сумма\n",
    "FROM stepik.trip\n",
    "GROUP BY name\n",
    "HAVING count(name) > 3\n",
    "ORDER BY сумма DESC;"
   ]
  },
  {
   "cell_type": "code",
   "execution_count": null,
   "metadata": {},
   "outputs": [],
   "source": []
  }
 ],
 "metadata": {
  "hide_input": false,
  "kernelspec": {
   "display_name": "Python 3",
   "language": "python",
   "name": "python3"
  },
  "language_info": {
   "codemirror_mode": {
    "name": "ipython",
    "version": 3
   },
   "file_extension": ".py",
   "mimetype": "text/x-python",
   "name": "python",
   "nbconvert_exporter": "python",
   "pygments_lexer": "ipython3",
   "version": "3.8.5"
  },
  "toc": {
   "base_numbering": 1,
   "nav_menu": {},
   "number_sections": false,
   "sideBar": true,
   "skip_h1_title": false,
   "title_cell": "Table of Contents",
   "title_sidebar": "Contents",
   "toc_cell": true,
   "toc_position": {
    "height": "calc(100% - 180px)",
    "left": "10px",
    "top": "150px",
    "width": "219px"
   },
   "toc_section_display": true,
   "toc_window_display": true
  },
  "varInspector": {
   "cols": {
    "lenName": 16,
    "lenType": 16,
    "lenVar": 40
   },
   "kernels_config": {
    "python": {
     "delete_cmd_postfix": "",
     "delete_cmd_prefix": "del ",
     "library": "var_list.py",
     "varRefreshCmd": "print(var_dic_list())"
    },
    "r": {
     "delete_cmd_postfix": ") ",
     "delete_cmd_prefix": "rm(",
     "library": "var_list.r",
     "varRefreshCmd": "cat(var_dic_list()) "
    }
   },
   "types_to_exclude": [
    "module",
    "function",
    "builtin_function_or_method",
    "instance",
    "_Feature"
   ],
   "window_display": false
  }
 },
 "nbformat": 4,
 "nbformat_minor": 4
}
